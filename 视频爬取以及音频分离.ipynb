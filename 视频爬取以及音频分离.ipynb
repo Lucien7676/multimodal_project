{
 "cells": [
  {
   "cell_type": "markdown",
   "source": [
    "# 视频url爬取\n",
    "- 此处分为两种类型，视频的播放源来自两种，第一种为mooc1，第二种为mooc2\n",
    "- 这里我们想要做的是将其分为两种形式来进行爬取"
   ],
   "metadata": {
    "collapsed": false,
    "pycharm": {
     "name": "#%% md\n"
    }
   }
  },
  {
   "cell_type": "code",
   "execution_count": 1,
   "outputs": [],
   "source": [
    "import time\n",
    "import pandas as pd\n",
    "# from selenium import webdriver\n",
    "from selenium.webdriver.common.by import By\n",
    "import requests\n",
    "import asyncio\n",
    "import aiohttp\n",
    "import os # 这个库是用来进行文件处理操作的\n",
    "import moviepy.editor as mp # 提取出视频中的音频部分\n",
    "from seleniumwire import webdriver\n",
    "from tqdm import tqdm"
   ],
   "metadata": {
    "collapsed": false,
    "pycharm": {
     "name": "#%%\n"
    }
   }
  },
  {
   "cell_type": "code",
   "execution_count": 19,
   "outputs": [],
   "source": [
    "# 我们将会pick两个demo进行测试\n",
    "# 前两个的播放源为mooc2，最后一个播放源为mooc1\n",
    "url_c1 = \"https://www.icourse163.org/course/GXU-1205891801\"\n",
    "c_name1 = \"木与人类文明\"\n",
    "url_c2 = \"https://www.icourse163.org/course/HEBYKDX-1454685171\"\n",
    "c_name2 = \"卫生应急管理\"\n",
    "url_c3 = \"https://www.icourse163.org/course/SCU-20012\"\n",
    "c_name3 = \"化妆品赏析与应用\""
   ],
   "metadata": {
    "collapsed": false,
    "pycharm": {
     "name": "#%%\n"
    }
   }
  },
  {
   "cell_type": "code",
   "execution_count": 20,
   "outputs": [
    {
     "data": {
      "text/plain": "                 课程名称   评价人数  是否可报名    课程类别  详细类别      开课单位 开课老师  \\\n0              木与人类文明   2846      1  理学工学农学  农林园艺      广西大学   高伟   \n1                 动物学    199      1  理学工学农学  农林园艺    华中农业大学   姬伟   \n2              茶叶感官审评    494      1  理学工学农学  农林园艺    安徽农业大学  戴前颖   \n3                禽生产学    120      1  理学工学农学  农林园艺  西北农林科技大学  王哲鹏   \n4              卫生应急管理   3805      1   医学与保健  医药卫生   哈尔滨医科大学  吴群红   \n..                ...    ...    ...     ...   ...       ...  ...   \n195       程序设计入门——C语言  11643      1     计算机   计算机      浙江大学   翁恺   \n196              数据结构   2384      1     计算机   计算机      浙江大学   陈越   \n197  面向对象程序设计——Java语言   1477      1     计算机   计算机      浙江大学   翁恺   \n198         C语言程序设计进阶   1463      1     计算机   计算机      浙江大学   翁恺   \n199           教师如何做研究   7529      1    教育教学  教育教学      北京大学   汪琼   \n\n                                                 课程url   评分  可爬取  \n0     https://www.icourse163.org/course/GXU-1205891801  4.9  1.0  \n1    https://www.icourse163.org/course/HZAU-1002478006  4.7  1.0  \n2    https://www.icourse163.org/course/AHAU-1206699836  4.8  1.0  \n3    https://www.icourse163.org/course/NWSUAF-12066...  4.7  1.0  \n4    https://www.icourse163.org/course/HEBYKDX-1454...  4.9  1.0  \n..                                                 ...  ...  ...  \n195       https://www.icourse163.org/course/ZJU-199001  4.9  1.0  \n196        https://www.icourse163.org/course/ZJU-93001  4.9  1.0  \n197   https://www.icourse163.org/course/ZJU-1001542001  4.9  1.0  \n198       https://www.icourse163.org/course/ZJU-200001  4.9  1.0  \n199       https://www.icourse163.org/course/PKU-269001  4.8  1.0  \n\n[200 rows x 10 columns]",
      "text/html": "<div>\n<style scoped>\n    .dataframe tbody tr th:only-of-type {\n        vertical-align: middle;\n    }\n\n    .dataframe tbody tr th {\n        vertical-align: top;\n    }\n\n    .dataframe thead th {\n        text-align: right;\n    }\n</style>\n<table border=\"1\" class=\"dataframe\">\n  <thead>\n    <tr style=\"text-align: right;\">\n      <th></th>\n      <th>课程名称</th>\n      <th>评价人数</th>\n      <th>是否可报名</th>\n      <th>课程类别</th>\n      <th>详细类别</th>\n      <th>开课单位</th>\n      <th>开课老师</th>\n      <th>课程url</th>\n      <th>评分</th>\n      <th>可爬取</th>\n    </tr>\n  </thead>\n  <tbody>\n    <tr>\n      <th>0</th>\n      <td>木与人类文明</td>\n      <td>2846</td>\n      <td>1</td>\n      <td>理学工学农学</td>\n      <td>农林园艺</td>\n      <td>广西大学</td>\n      <td>高伟</td>\n      <td>https://www.icourse163.org/course/GXU-1205891801</td>\n      <td>4.9</td>\n      <td>1.0</td>\n    </tr>\n    <tr>\n      <th>1</th>\n      <td>动物学</td>\n      <td>199</td>\n      <td>1</td>\n      <td>理学工学农学</td>\n      <td>农林园艺</td>\n      <td>华中农业大学</td>\n      <td>姬伟</td>\n      <td>https://www.icourse163.org/course/HZAU-1002478006</td>\n      <td>4.7</td>\n      <td>1.0</td>\n    </tr>\n    <tr>\n      <th>2</th>\n      <td>茶叶感官审评</td>\n      <td>494</td>\n      <td>1</td>\n      <td>理学工学农学</td>\n      <td>农林园艺</td>\n      <td>安徽农业大学</td>\n      <td>戴前颖</td>\n      <td>https://www.icourse163.org/course/AHAU-1206699836</td>\n      <td>4.8</td>\n      <td>1.0</td>\n    </tr>\n    <tr>\n      <th>3</th>\n      <td>禽生产学</td>\n      <td>120</td>\n      <td>1</td>\n      <td>理学工学农学</td>\n      <td>农林园艺</td>\n      <td>西北农林科技大学</td>\n      <td>王哲鹏</td>\n      <td>https://www.icourse163.org/course/NWSUAF-12066...</td>\n      <td>4.7</td>\n      <td>1.0</td>\n    </tr>\n    <tr>\n      <th>4</th>\n      <td>卫生应急管理</td>\n      <td>3805</td>\n      <td>1</td>\n      <td>医学与保健</td>\n      <td>医药卫生</td>\n      <td>哈尔滨医科大学</td>\n      <td>吴群红</td>\n      <td>https://www.icourse163.org/course/HEBYKDX-1454...</td>\n      <td>4.9</td>\n      <td>1.0</td>\n    </tr>\n    <tr>\n      <th>...</th>\n      <td>...</td>\n      <td>...</td>\n      <td>...</td>\n      <td>...</td>\n      <td>...</td>\n      <td>...</td>\n      <td>...</td>\n      <td>...</td>\n      <td>...</td>\n      <td>...</td>\n    </tr>\n    <tr>\n      <th>195</th>\n      <td>程序设计入门——C语言</td>\n      <td>11643</td>\n      <td>1</td>\n      <td>计算机</td>\n      <td>计算机</td>\n      <td>浙江大学</td>\n      <td>翁恺</td>\n      <td>https://www.icourse163.org/course/ZJU-199001</td>\n      <td>4.9</td>\n      <td>1.0</td>\n    </tr>\n    <tr>\n      <th>196</th>\n      <td>数据结构</td>\n      <td>2384</td>\n      <td>1</td>\n      <td>计算机</td>\n      <td>计算机</td>\n      <td>浙江大学</td>\n      <td>陈越</td>\n      <td>https://www.icourse163.org/course/ZJU-93001</td>\n      <td>4.9</td>\n      <td>1.0</td>\n    </tr>\n    <tr>\n      <th>197</th>\n      <td>面向对象程序设计——Java语言</td>\n      <td>1477</td>\n      <td>1</td>\n      <td>计算机</td>\n      <td>计算机</td>\n      <td>浙江大学</td>\n      <td>翁恺</td>\n      <td>https://www.icourse163.org/course/ZJU-1001542001</td>\n      <td>4.9</td>\n      <td>1.0</td>\n    </tr>\n    <tr>\n      <th>198</th>\n      <td>C语言程序设计进阶</td>\n      <td>1463</td>\n      <td>1</td>\n      <td>计算机</td>\n      <td>计算机</td>\n      <td>浙江大学</td>\n      <td>翁恺</td>\n      <td>https://www.icourse163.org/course/ZJU-200001</td>\n      <td>4.9</td>\n      <td>1.0</td>\n    </tr>\n    <tr>\n      <th>199</th>\n      <td>教师如何做研究</td>\n      <td>7529</td>\n      <td>1</td>\n      <td>教育教学</td>\n      <td>教育教学</td>\n      <td>北京大学</td>\n      <td>汪琼</td>\n      <td>https://www.icourse163.org/course/PKU-269001</td>\n      <td>4.8</td>\n      <td>1.0</td>\n    </tr>\n  </tbody>\n</table>\n<p>200 rows × 10 columns</p>\n</div>"
     },
     "execution_count": 20,
     "metadata": {},
     "output_type": "execute_result"
    }
   ],
   "source": [
    "# 全部数据源\n",
    "df_200 = pd.read_excel('200个选课_V2.xlsx')\n",
    "df_200"
   ],
   "metadata": {
    "collapsed": false,
    "pycharm": {
     "name": "#%%\n"
    }
   }
  },
  {
   "cell_type": "code",
   "execution_count": 21,
   "outputs": [],
   "source": [
    "# 首先先处理登陆的操作\n",
    "# 准备对应的url地址\n",
    "url = \"https://www.icourse163.org/\"\n",
    "\n",
    "# 下面主要先进行处理登陆的问题\n",
    "person = {\n",
    "    # \"account\" : \"13539651927\"     ,\n",
    "    # \"password\": \"qazmlp123456@...\",\n",
    "    \"account\" : \"13501408005\"     ,\n",
    "    \"password\": \"qazwsx123520\",\n",
    "}\n",
    "\n",
    "# 首先创建一个driver实例对象\n",
    "driver = webdriver.Chrome()\n",
    "driver.maximize_window()\n",
    "\n",
    "# 避开 chrome 检测\n",
    "driver.execute_cdp_cmd(\n",
    "    \"Page.addScriptToEvaluateOnNewDocument\",\n",
    "    {\n",
    "        \"source\": \"\"\"Object.defineProperty(navigator, 'webdriver', {get: () => undefined})\"\"\"\n",
    "    }\n",
    ")\n",
    "\n",
    "# 打开对应的网站\n",
    "driver.get(url)\n",
    "\n",
    "# 登录\n",
    "driver.find_element(by=By.CSS_SELECTOR,value=\"#j-topnav > div > a\").click()\n",
    "# 其他登录方式\n",
    "driver.find_element(by=By.CSS_SELECTOR,value=\"div.ux-login-set-scan-code_ft > span\").click()\n",
    "# 手机号登录\n",
    "driver.find_element(by=By.CSS_SELECTOR,value=\"div.ux-tabs-underline > ul > li:nth-child(2)\").click()\n",
    "driver.switch_to.frame(driver.find_element(by=By.CSS_SELECTOR,value=\"div.ux-login-urs-phone-wrap.f-pr > div > iframe\"))\n",
    "\n",
    "# 输入账号\n",
    "driver.find_element(by=By.XPATH,value=\"/html/body/div[2]/div[2]/div[2]/form/div/div[2]/div[2]/input\").clear()\n",
    "driver.find_element(by=By.XPATH,value=\"/html/body/div[2]/div[2]/div[2]/form/div/div[2]/div[2]/input\").send_keys(person[\"account\"])\n",
    "# 输入密码\n",
    "driver.find_element(by=By.XPATH,value=\"/html/body/div[2]/div[2]/div[2]/form/div/div[4]/div[2]/input[2]\").clear()\n",
    "driver.find_element(by=By.XPATH,value=\"/html/body/div[2]/div[2]/div[2]/form/div/div[4]/div[2]/input[2]\").send_keys(person[\"password\"])\n",
    "\n",
    "time.sleep(1)\n",
    "# 登录\n",
    "driver.find_element(by=By.XPATH,value=\"//div[@class='m-container']/div[@class='u-tab f-cb']//following::div[@class='f-cb loginbox']\").click()\n",
    "\n",
    "time.sleep(2)\n",
    "driver.implicitly_wait(5)"
   ],
   "metadata": {
    "collapsed": false,
    "pycharm": {
     "name": "#%%\n"
    }
   }
  },
  {
   "cell_type": "markdown",
   "source": [
    "## 编写函数"
   ],
   "metadata": {
    "collapsed": false,
    "pycharm": {
     "name": "#%% md\n"
    }
   }
  },
  {
   "cell_type": "code",
   "execution_count": 22,
   "outputs": [],
   "source": [
    "def merge_and_remove(path_1,path_2,sub_urls):\n",
    "    # 首先获取所有的文件的名字\n",
    "    #lst = os.listdir(path)\n",
    "    # 这里是适用于mac系统的所以下面是len(lst)-1 win 系统下面为len(lst)即可\n",
    "    name_lst = [f'{i}.ts' for i in range(len(sub_urls))]\n",
    "    #print(name_lst)\n",
    "    for file in tqdm(name_lst, desc=\"正在转换视频格式：\"):\n",
    "        if os.path.exists(path_1 + path_2 + '/' +file):\n",
    "            with open(path_1 + path_2 + '/' + file, 'rb') as f1:\n",
    "                with open(path_1  + f\"{path_2}.mp4\", 'ab') as f2:\n",
    "                    f2.write(f1.read())\n",
    "        else:\n",
    "            print(\"失败\")\n",
    "\n",
    "    for item in name_lst:\n",
    "        # 删除所有的ts片段\n",
    "        os.remove(path_1 + path_2 +'/'+item)\n",
    "    # 删除装ts视频片段的文件夹\n",
    "    os.removedirs(path_1 + path_2)"
   ],
   "metadata": {
    "collapsed": false,
    "pycharm": {
     "name": "#%%\n"
    }
   }
  },
  {
   "cell_type": "markdown",
   "source": [],
   "metadata": {
    "collapsed": false,
    "pycharm": {
     "name": "#%% md\n"
    }
   }
  },
  {
   "cell_type": "code",
   "execution_count": 23,
   "outputs": [
    {
     "name": "stdout",
     "output_type": "stream",
     "text": [
      "化妆品赏析与应用\n",
      "curr https://www.icourse163.org/learn/SCU-20012?tid=1467129514#/learn/content\n"
     ]
    }
   ],
   "source": [
    "# 下面开始进行爬取\n",
    "# course200_urls = df_200['课程url'].tolist()\n",
    "# course200_names = df_200['课程名称'].tolist()\n",
    "# course200_schools = df_200['开课单位'].tolist()\n",
    "# course200_teachers = df_200['开课老师'].tolist()\n",
    "#\n",
    "# new_names = [t1+t2+t3 for t1 in course200_names for t2 in course200_schools for t3 in course200_teachers]\n",
    "\n",
    "# course_keyi_name = []\n",
    "# course_keyi_url = []\n",
    "\n",
    "# 设置一个临时的urls list和一个names list\n",
    "course200_urls = [url_c1,url_c2,url_c3]\n",
    "new_names = [c_name1,c_name2,c_name3]\n",
    "\n",
    "for url_c,c_name in zip(course200_urls[-1:],new_names[-1:]):\n",
    "    # 首先对于课程页面的url\n",
    "    # 这里需要重新改一下就是获取对应的course名称和单位和老师加上对应页面的url\n",
    "    # 首先在当前的路径下判断有没有该课程文件夹，现在文件夹会主要存放两种类型，第一种类型为csv文件，第二种类型为mp4类型\n",
    "    # 这个是为了方便后面看看第几个课出问题了\n",
    "    print(c_name)\n",
    "    dir_name = f'{c_name}_url_or_video'\n",
    "    if not os.path.exists(dir_name):\n",
    "        os.makedirs(dir_name)\n",
    "\n",
    "    driver.execute_script(\"window.open('{}');\".format(url_c))\n",
    "    # 切换到新打开的课程页面\n",
    "    driver.switch_to.window(driver.window_handles[-1])\n",
    "    # 已参加，继续学习\n",
    "    driver.find_element(by=By.CSS_SELECTOR,value=\"div.course-enroll-info_course-enroll_buttons > div > span\").click()\n",
    "    # 关掉弹窗\n",
    "    driver.find_element(by=By.CSS_SELECTOR,value=\"div.ux-modal_hd > a\").click()\n",
    "    # 课件\n",
    "    driver.find_element(by=By.XPATH,value=\"/html/body/div[4]/div[2]/div[4]/div[1]/div[1]/ul/li[3]\").click()\n",
    "\n",
    "    # 下面开始点击对应的视频出来\n",
    "    # 保存好当前页面的 url，后面需要反复访问\n",
    "    curr = driver.current_url\n",
    "    print(\"curr\",curr)\n",
    "\n",
    "    # 先把所有展开的收起\n",
    "    already_click = driver.find_elements(by=By.XPATH,value=\"//div[@class='sourceList']/div/div[contains(text(),'视频')]/ancestor::div[@class='m-learnChapterNormal f-pr']/div[@class='titleBox j-titleBox f-cb']\")\n",
    "    if already_click:\n",
    "        for i in already_click:\n",
    "            i.click()\n",
    "\n",
    "    # 章，后面需要不断更新\n",
    "    chapters = driver.find_elements(by=By.XPATH,value=\"//div[@class='m-learnChapterList f-pr']//div[@class='m-learnChapterNormal f-pr']//div[@class='titleBox j-titleBox f-cb']//h3\")\n",
    "    #print(\"chapters\",[i.text for i in chapters])\n",
    "\n",
    "    # 维护一个用来索引的数组\n",
    "    chapters_idx = [i for i in range(len(chapters))]\n",
    "    #print(\"chapter_idx\",chapters_idx)\n",
    "\n",
    "    # 空列表保存视频 url(对于视频源为mooc1)\n",
    "    video_urls = []\n",
    "    names = []\n",
    "    for idx in chapters_idx:\n",
    "\n",
    "        # 更新当前章的对象\n",
    "        chapters = driver.find_elements(by=By.XPATH,value=\"//div[@class='m-learnChapterList f-pr']//div[@class='m-learnChapterNormal f-pr']//div[@class='titleBox j-titleBox f-cb']//h3\")\n",
    "        chapters[idx].click()\n",
    "\n",
    "        #print(\"idx\",idx)\n",
    "        time.sleep(0.5)\n",
    "\n",
    "        # 当前章下的视频节，后面需要不断更新\n",
    "        video_section = driver.find_elements(by=By.XPATH,value=\"//div[@class='sourceList']/div/div[contains(text(),'视频')]/parent::div\")\n",
    "        video_section_idx = [i for i in range(len(video_section))]\n",
    "        #print(\"video_section\",[i.text for i in video_section])\n",
    "\n",
    "        for video_idx in video_section_idx:\n",
    "            #print(\"video_idx\",video_idx)\n",
    "\n",
    "            # 在新窗口打开\n",
    "            driver.execute_script(\"window.open('{}');\".format(curr))\n",
    "\n",
    "            # 切换窗口\n",
    "            handles = driver.window_handles\n",
    "            driver.switch_to.window(handles[-1])\n",
    "\n",
    "            # 先把所有展开的收起，再从头开始点击\n",
    "            already_click = driver.find_elements(by=By.XPATH,value=\"//div[@class='sourceList']/div/div[contains(text(),'视频')]/ancestor::div[@class='m-learnChapterNormal f-pr']/div[@class='titleBox j-titleBox f-cb']\")\n",
    "            if already_click:\n",
    "                for i in already_click:\n",
    "                    i.click()\n",
    "\n",
    "            time.sleep(1)\n",
    "            # 更新当前章的对象\n",
    "            chapters = driver.find_elements(by=By.XPATH,value=\"//div[@class='m-learnChapterList f-pr']//div[@class='titleBox j-titleBox f-cb']//h3\")\n",
    "            chapters[idx].click()\n",
    "            time.sleep(1)\n",
    "\n",
    "\n",
    "            # 更新当前视频节对象\n",
    "            video_section = driver.find_elements(by=By.XPATH,value=\"//div[@class='sourceList']/div/div[contains(text(),'视频')]/parent::div\")\n",
    "            time.sleep(1)\n",
    "            names.append(\"{}+{}\".format(chapters[idx].text,video_section[video_idx].get_attribute(\"title\")))\n",
    "            video_section[video_idx].click()\n",
    "\n",
    "\n",
    "\n",
    "            time.sleep(1)\n",
    "            # 获取视频 url,如果失败则刷新一下再获取\n",
    "            try:\n",
    "                # 这里表示的是mooc1的形式\n",
    "                video_urls.append(driver.find_element(by=By.CSS_SELECTOR,value=\"div.u-edu-h5player-mainvideo.f-pa.j-mainVideo > video > source\").get_attribute(\"src\"))\n",
    "            except:\n",
    "                # 这里表示的是视频的播放源是mooc2的形式，此处我们就直接把视频给爬取出来\n",
    "                # 思路： 爬取每个视频的ts片段的url =》下载对应的ts片段 =》 拼接ts片段变成mp4文件\n",
    "                video_fragment_ts = []\n",
    "                for request in driver.requests:\n",
    "                    #print(request)\n",
    "                    if \".m3u8\" in request.url:\n",
    "                        video_fragment_ts.append(request.url)\n",
    "                # 实际上我们上面就提取到了m3u8文件的request url\n",
    "                m3u8_request_url = video_fragment_ts[-1]\n",
    "                # print(m3u8_request_url)\n",
    "                # print(video_fragment_ts)\n",
    "                sharing_url = m3u8_request_url[:m3u8_request_url.rfind('/')]\n",
    "                # 下面先下载m3u8文件，然后拼接出所有的ts的片段，并且给名字\n",
    "                resp = requests.get(m3u8_request_url)\n",
    "                sub_urls = [u for u in resp.text.split('\\n') if u[-3:] == '.ts']\n",
    "                # 需要为每一个视频建立一个文件夹\n",
    "                if not os.path.exists(f'./{dir_name}/{names[-1]}'):\n",
    "                    os.makedirs(f'./{dir_name}/{names[-1]}')\n",
    "\n",
    "                for m in range(len(sub_urls)):\n",
    "                    req_url = sharing_url+'/'+sub_urls[m]\n",
    "                    # 发送请求并且存放到对应的文件夹中\n",
    "                    tp_resp = requests.get(req_url)\n",
    "                    with open(f'./{dir_name}/{names[-1]}/{m}.ts','wb') as f:\n",
    "                        f.write(tp_resp.content)\n",
    "\n",
    "                # 上面我们实现了将每一个视频对应的所有的ts视频片段下载到课程文件夹中的视频文件夹\n",
    "                # 下面我们将会实现将所有的ts合并为一个mp4文件 并且进行删除ts片段\n",
    "                path_1 = f'./{dir_name}'\n",
    "                path_2 = f'/{names[-1]}'\n",
    "                # 合并为mp4文件并且将ts文件进行删除\n",
    "                merge_and_remove(path_1,path_2,sub_urls)\n",
    "\n",
    "\n",
    "            # 关掉当前窗口\n",
    "            driver.close()\n",
    "\n",
    "            # 切回一开始的窗口\n",
    "            driver.switch_to.window(handles[1])\n",
    "\n",
    "        # 重要!!!把一开始打开的章收起\n",
    "        chapters = driver.find_elements(by=By.XPATH,value=\"//div[@class='m-learnChapterList f-pr']//div[@class='titleBox j-titleBox f-cb']//h3\")\n",
    "        chapters[idx].click()\n",
    "    # 加上一个判断 如果url的\n",
    "    if len(video_urls)!=0:\n",
    "        # 合成一个表格\n",
    "        pd.DataFrame({\n",
    "        \"names\":names,\n",
    "        \"video_urls\":video_urls,\n",
    "        }).to_csv(f'./{dir_name}/{c_name}_video_url.csv',index=False)\n",
    "\n",
    "    # 关闭课程的页面\n",
    "    driver.close()\n",
    "    driver.switch_to.window(driver.window_handles[-1])\n",
    "    # course_keyi_url.append(url_c)\n",
    "    # course_keyi_name.append(c_name)"
   ],
   "metadata": {
    "collapsed": false,
    "pycharm": {
     "name": "#%%\n"
    }
   }
  },
  {
   "cell_type": "code",
   "execution_count": 18,
   "outputs": [
    {
     "name": "stdout",
     "output_type": "stream",
     "text": [
      "1\n"
     ]
    }
   ],
   "source": [
    "print(new_names.index(c_name))"
   ],
   "metadata": {
    "collapsed": false,
    "pycharm": {
     "name": "#%%\n"
    }
   }
  },
  {
   "cell_type": "code",
   "execution_count": 27,
   "outputs": [
    {
     "data": {
      "text/plain": "69"
     },
     "execution_count": 27,
     "metadata": {},
     "output_type": "execute_result"
    }
   ],
   "source": [
    "len(video_urls)"
   ],
   "metadata": {
    "collapsed": false,
    "pycharm": {
     "name": "#%%\n"
    }
   }
  },
  {
   "cell_type": "code",
   "execution_count": 28,
   "outputs": [
    {
     "data": {
      "text/plain": "69"
     },
     "execution_count": 28,
     "metadata": {},
     "output_type": "execute_result"
    }
   ],
   "source": [
    "len(names)"
   ],
   "metadata": {
    "collapsed": false,
    "pycharm": {
     "name": "#%%\n"
    }
   }
  },
  {
   "cell_type": "code",
   "execution_count": 29,
   "outputs": [
    {
     "data": {
      "text/plain": "['第1讲 概说——化妆品的前世今生+视频1.1\\xa0化妆品的概念',\n '第1讲 概说——化妆品的前世今生+视频化妆品的发展',\n '第1讲 概说——化妆品的前世今生+视频化妆品的特性',\n '第1讲 概说——化妆品的前世今生+视频化妆品的分类',\n '第1讲 概说——化妆品的前世今生+视频化妆品的吸收',\n '第1讲 概说——化妆品的前世今生+视频化妆品的选择与使用',\n '第2讲 揭开面纱——化妆品原料+视频13.1\\xa0化妆品原料概念和分类',\n '第2讲 揭开面纱——化妆品原料+视频13.2\\xa0化妆品基质原料',\n '第2讲 揭开面纱——化妆品原料+视频13.3\\xa0化妆品粉质原料和水性原料',\n '第2讲 揭开面纱——化妆品原料+视频13.4\\xa0化妆品表面活性剂',\n '第2讲 揭开面纱——化妆品原料+视频13.5\\xa0化妆品辅助原料',\n '第3讲 天然与雕琢——化妆品配方、生产工艺+视频14.1\\xa0膏霜的配方原理与生产',\n '第3讲 天然与雕琢——化妆品配方、生产工艺+视频14.2\\xa0精华素、啫喱的配制与特色',\n '第3讲 天然与雕琢——化妆品配方、生产工艺+视频14.3\\xa0彩妆的配方原理与生产',\n '第3讲 天然与雕琢——化妆品配方、生产工艺+视频14.4\\xa0香波、护发素的配制与特色',\n '第4讲 秀发卫士——毛发类化妆品+视频2.1\\xa0毛发的结构和功能',\n '第4讲 秀发卫士——毛发类化妆品+视频2.2\\xa0毛发类化妆品的成分及选择要点',\n '第4讲 秀发卫士——毛发类化妆品+视频2.3\\xa0毛发类化妆品使用的常见疑问',\n '第4讲 秀发卫士——毛发类化妆品+视频2.4\\xa0护发攻略',\n '第5讲 温柔呵护——舒缓类化妆品+视频敏感性皮肤的概述1',\n '第5讲 温柔呵护——舒缓类化妆品+视频敏感性皮肤的概述2',\n '第5讲 温柔呵护——舒缓类化妆品+视频舒缓类化妆品原料及作用机制',\n '第5讲 温柔呵护——舒缓类化妆品+视频3.3\\xa0舒缓类化妆品的选择与使用',\n '第5讲 温柔呵护——舒缓类化妆品+视频舒缓类化妆品的功效评价',\n '第6讲 UV不在——防晒类化妆品+视频紫外辐射及其对人类皮肤的基本损害',\n '第6讲 UV不在——防晒类化妆品+视频防晒类化妆品的历史形成和发展',\n '第6讲 UV不在——防晒类化妆品+视频防晒类化妆品功效成分',\n '第6讲 UV不在——防晒类化妆品+视频防晒类化妆品的功效评价',\n '第6讲 UV不在——防晒类化妆品+视频防晒类化妆品的种类与使用',\n '第7讲 美丽定制——彩妆类化妆品+视频5.1\\xa0彩妆类化妆品的起源',\n '第7讲 美丽定制——彩妆类化妆品+视频5.2\\xa0彩妆类化妆品的定义',\n '第7讲 美丽定制——彩妆类化妆品+视频5.3\\xa0彩妆类化妆品的分类',\n '第7讲 美丽定制——彩妆类化妆品+视频5.4\\xa0彩妆的危害',\n '第8讲 “膜法无边”——面膜类化妆品+视频6.1\\xa0面膜发展简史和作用机制',\n '第8讲 “膜法无边”——面膜类化妆品+视频6.2\\xa0面膜类化妆品的分类',\n '第8讲 “膜法无边”——面膜类化妆品+视频6.3\\xa0功效性面膜简介',\n '第8讲 “膜法无边”——面膜类化妆品+视频6.4\\xa0DIY面膜',\n '第8讲 “膜法无边”——面膜类化妆品+视频6.5\\xa0面膜知识小问答',\n '第9讲 清洁伴侣——清洁类化妆品+视频7.1\\xa0皮肤为什么需要清洁',\n '第9讲 清洁伴侣——清洁类化妆品+视频7.2\\xa0清洁类化妆品的成分',\n '第9讲 清洁伴侣——清洁类化妆品+视频7.3\\xa0清洁类化妆品的分类',\n '第9讲 清洁伴侣——清洁类化妆品+视频7.4\\xa0皮肤该怎么清洁',\n '第10讲 守护屏障——保湿类化妆品+视频8.1\\xa0皮肤保湿机制',\n '第10讲 守护屏障——保湿类化妆品+视频8.2\\xa0化妆品保湿机制',\n '第10讲 守护屏障——保湿类化妆品+视频8.3\\xa0保湿功效评价',\n '第10讲 守护屏障——保湿类化妆品+视频8.4\\xa0保湿化妆品的选用',\n '第11讲 青春不烦恼——控油类化妆品+视频9.1\\xa0油性皮肤的概念',\n '第11讲 青春不烦恼——控油类化妆品+视频9.2\\xa0青春的烦恼—油腻皮肤和“痘痘”',\n '第11讲 青春不烦恼——控油类化妆品+视频9.3\\xa0化妆品如何控油、“战痘”',\n '第11讲 青春不烦恼——控油类化妆品+视频9.4\\xa0控油类产品功效评价',\n '第11讲 青春不烦恼——控油类化妆品+视频9.5\\xa0案例分析',\n '第12讲 白皙肌肤的秘密——美白祛斑类化妆品+视频10.1\\xa0皮肤颜色和黑素代谢',\n '第12讲 白皙肌肤的秘密——美白祛斑类化妆品+视频10.2\\xa0原材料和作用机制',\n '第12讲 白皙肌肤的秘密——美白祛斑类化妆品+视频10.3\\xa0美白化妆品类型与使用',\n '第12讲 白皙肌肤的秘密——美白祛斑类化妆品+视频10.4\\xa0美白祛斑化妆品的功效评价',\n '第13讲 时光留步——抗老化嫩肤类化妆品+视频11.1\\xa0皮肤老化的概述',\n '第13讲 时光留步——抗老化嫩肤类化妆品+视频11.2\\xa0皱纹的分类及其影响因素',\n '第13讲 时光留步——抗老化嫩肤类化妆品+视频11.3\\xa0化妆品的设计思路',\n '第13讲 时光留步——抗老化嫩肤类化妆品+视频11.4\\xa0嫩肤抗皱类化妆品原料',\n '第13讲 时光留步——抗老化嫩肤类化妆品+视频11.5\\xa0嫩肤抗皱化妆品小常识',\n '第13讲 时光留步——抗老化嫩肤类化妆品+视频11.6\\xa0嫩肤抗皱类产品功效评价',\n '第14讲 闻香识人——芳香类化妆品+视频12.1\\xa0香水的传说',\n '第14讲 闻香识人——芳香类化妆品+视频12.2\\xa0芳香原料与调香',\n '第14讲 闻香识人——芳香类化妆品+视频12.3\\xa0芳香品类型与生产',\n '第14讲 闻香识人——芳香类化妆品+视频12.4\\xa0芳香品的选择与使用',\n '第15讲 判别与警示——化妆品评价与不良反应防治+视频15.1\\xa0化妆品不良反应的概念',\n '第15讲 判别与警示——化妆品评价与不良反应防治+视频15.2\\xa0化妆品不良反应的临床类型（一）',\n '第15讲 判别与警示——化妆品评价与不良反应防治+视频15.3\\xa0化妆品不良反应的临床类型（二）',\n '第15讲 判别与警示——化妆品评价与不良反应防治+视频15.4\\xa0化妆品不良反应的应对措施']"
     },
     "execution_count": 29,
     "metadata": {},
     "output_type": "execute_result"
    }
   ],
   "source": [
    "names"
   ],
   "metadata": {
    "collapsed": false,
    "pycharm": {
     "name": "#%%\n"
    }
   }
  },
  {
   "cell_type": "code",
   "execution_count": 10,
   "outputs": [],
   "source": [
    "os.removedirs('./木与人类文明_url_or_video/1 绪论+视频视频-1.1本课程中的木和文明')"
   ],
   "metadata": {
    "collapsed": false,
    "pycharm": {
     "name": "#%%\n"
    }
   }
  },
  {
   "cell_type": "code",
   "execution_count": null,
   "outputs": [],
   "source": [],
   "metadata": {
    "collapsed": false,
    "pycharm": {
     "name": "#%%\n"
    }
   }
  },
  {
   "cell_type": "code",
   "execution_count": 9,
   "outputs": [
    {
     "name": "stdout",
     "output_type": "stream",
     "text": [
      "1\n",
      "2\n"
     ]
    }
   ],
   "source": [
    "for i,j in zip([1],[2]):\n",
    "    print(i)\n",
    "    print(j)"
   ],
   "metadata": {
    "collapsed": false,
    "pycharm": {
     "name": "#%%\n"
    }
   }
  },
  {
   "cell_type": "code",
   "execution_count": null,
   "outputs": [],
   "source": [],
   "metadata": {
    "collapsed": false,
    "pycharm": {
     "name": "#%%\n"
    }
   }
  },
  {
   "cell_type": "code",
   "execution_count": null,
   "outputs": [],
   "source": [],
   "metadata": {
    "collapsed": false,
    "pycharm": {
     "name": "#%%\n"
    }
   }
  },
  {
   "cell_type": "markdown",
   "source": [
    "## testing"
   ],
   "metadata": {
    "collapsed": false,
    "pycharm": {
     "name": "#%% md\n"
    }
   }
  },
  {
   "cell_type": "code",
   "execution_count": 96,
   "outputs": [],
   "source": [
    "dir_name = \"testing\"\n",
    "names = ['hahaha']\n",
    "# 实际上我们上面就提取到了m3u8文件的request url\n",
    "m3u8_request_url = \"https://mooc2vod.stu.126.net/nos/hls/2021/10/11/66/ad19833d-3531-4cd7-9150-81199ee139a5_7.m3u8?ak=7909bff134372bffca53cdc2c17adc27a4c38c6336120510aea1ae1790819de8ebd9b5d43f43bc6f732667516cf10fad3296f41833121932ed36da2b405f08bb3059f726dc7bb86b92adbc3d5b34b1326959e1fd05d5a4fc919af812946cbac8b8ae77e29788836745b7125f174b3914\"\n",
    "sharing_url = m3u8_request_url[:m3u8_request_url.rfind('/')]\n",
    "# 下面先下载m3u8文件，然后拼接出所有的ts的片段，并且给名字\n",
    "resp = requests.get(m3u8_request_url)\n",
    "sub_urls = [u for u in resp.text.split('\\n') if u[-3:] == '.ts']\n",
    "# 需要为每一个视频建立一个文件夹\n",
    "if not os.path.exists(f'./{dir_name}/{names[-1]}'):\n",
    "    os.makedirs(f'./{dir_name}/{names[-1]}')\n",
    "\n",
    "headers = {\n",
    "    \"user-agent\": \"Mozilla/5.0 (Macintosh; Intel Mac OS X 10_15_7) AppleWebKit/537.36 (KHTML, like Gecko) Chrome/103.0.0.0 Safari/537.36\"\n",
    "}\n",
    "\n",
    "for m in range(len(sub_urls)):\n",
    "    req_url = sharing_url+'/'+sub_urls[m]\n",
    "    #print(req_url)\n",
    "    # 发送请求并且存放到对应的文件夹中\n",
    "    tp_resp = requests.get(req_url,headers=headers,stream=True,verify=False)\n",
    "    with open(f'./{dir_name}/{names[-1]}/{m}.ts','wb') as f:\n",
    "        f.write(tp_resp.content)\n"
   ],
   "metadata": {
    "collapsed": false,
    "pycharm": {
     "name": "#%%\n"
    }
   }
  },
  {
   "cell_type": "code",
   "execution_count": 99,
   "outputs": [
    {
     "name": "stderr",
     "output_type": "stream",
     "text": [
      "正在转换视频格式：: 100%|██████████| 99/99 [00:00<00:00, 844.28it/s]\n"
     ]
    }
   ],
   "source": [
    "path = f'./{dir_name}/{names[-1]}'\n",
    "def merge_and_remove(path):\n",
    "    # 首先获取所有的文件的名字\n",
    "    lst = os.listdir(path)\n",
    "    # 这里是适用于mac系统的所以下面是len(lst)-1 win 系统下面为len(lst)即可\n",
    "    name_lst = [f'{i}.ts' for i in range(len(lst)-1)]\n",
    "    #print(name_lst)\n",
    "    for file in tqdm(name_lst, desc=\"正在转换视频格式：\"):\n",
    "        if os.path.exists(path + '/' +file):\n",
    "            with open(path + '/' + file, 'rb') as f1:\n",
    "                with open(path + '/' + \"damn.mp4\", 'ab') as f2:\n",
    "                    f2.write(f1.read())\n",
    "        else:\n",
    "            print(\"失败\")\n",
    "    for item in name_lst:\n",
    "        os.remove(path+'/'+item)\n",
    "\n",
    "\n",
    "merge_and_remove(path)"
   ],
   "metadata": {
    "collapsed": false,
    "pycharm": {
     "name": "#%%\n"
    }
   }
  }
 ],
 "metadata": {
  "kernelspec": {
   "display_name": "Python 3",
   "language": "python",
   "name": "python3"
  },
  "language_info": {
   "codemirror_mode": {
    "name": "ipython",
    "version": 2
   },
   "file_extension": ".py",
   "mimetype": "text/x-python",
   "name": "python",
   "nbconvert_exporter": "python",
   "pygments_lexer": "ipython2",
   "version": "2.7.6"
  }
 },
 "nbformat": 4,
 "nbformat_minor": 0
}