{
 "cells": [
  {
   "cell_type": "code",
   "execution_count": 17,
   "metadata": {
    "collapsed": true,
    "pycharm": {
     "name": "#%%\n"
    }
   },
   "outputs": [
    {
     "data": {
      "text/plain": "    Unnamed: 0                                        names  \\\n0            0                   第一讲 大数据算法概述+视频1.1大数据的定义与特点   \n1            1        第一讲 大数据算法概述+视频1.2 大数据算法-求解大数据上计算问题的过程   \n2            2             第一讲 大数据算法概述+视频1.2 大数据算法-大数据算法的定义   \n3            3          第一讲 大数据算法概述+视频1.2 大数据算法-大数据算法的特点与难点   \n4            4                 第一讲 大数据算法概述+视频1.3 大数据算法设计与分析   \n5            5                         第二讲 亚线性算法+视频亚线性算法的定义   \n6            6                     第二讲 亚线性算法+视频水库抽样—空间亚线性算法   \n7            7                  第二讲 亚线性算法+视频平面图直径—时间亚线性计算算法   \n8            8                 第二讲 亚线性算法+视频全0数组判定—时间亚线性判定算法   \n9            9              第三讲 亚线性算法例析+视频3.1 数据流中频繁元素-基础知识   \n10          10             第三讲 亚线性算法例析+视频3.1 数据流中频繁元素-算法与分析   \n11          11                   第三讲 亚线性算法例析+视频3.2 生成树权重(一)   \n12          12                   第三讲 亚线性算法例析+视频3.2 生成树权重(二)   \n13          13                    第三讲 亚线性算法例析+视频3.3 数组有序性判定   \n14          14                 第四讲 外存算法概述+视频4.1 外存存储结构与外存算法   \n15          15                   第四讲 外存算法概述+视频4.2 外存排序算法(一)   \n16          16              第四讲 外存算法概述+视频4.2 外存排序算法(二)[可选学]   \n17          17                       第四讲 外存算法概述+视频4.3 外存查找树   \n18          18                           第五讲 外存查找结构+视频B树(一)   \n19          19                           第五讲 外存查找结构+视频B树(二)   \n20          20                             第五讲 外存查找结构+视频KD树   \n21          21                     第六讲外存图数据算法+视频6.1 表排序及其应用   \n22          22                    第六讲外存图数据算法+视频6.2 时间前向处理方法   \n23          23                         第六讲外存图数据算法+视频6.3 缩图法   \n24          24     第七讲 基于MapReduce的并行算法设计+视频7.1 MapReduce概述   \n25          25            第七讲 基于MapReduce的并行算法设计+视频7.2 字数统计   \n26          26           第七讲 基于MapReduce的并行算法设计+视频7.3 平均数计算   \n27          27       第七讲 基于MapReduce的并行算法设计+视频7.4 单词贡献矩阵的计算   \n28          28                     第八讲 MapReduce算法例析+视频连接算法   \n29          29                   第八讲 MapReduce算法例析+视频图算法(一）   \n30          30                   第八讲 MapReduce算法例析+视频图算法(二)   \n31          31  第九讲 超越MapReduce的并行大数据处理+视频9.1 基于迭代处理平台的并行算法   \n32          32   第九讲 超越MapReduce的并行大数据处理+视频9.2 基于图处理平台的并行算法   \n33          33                        第十讲 众包算法+视频10.1 众包的定义   \n34          34                        第十讲 众包算法+视频10.2 众包的实例   \n35          35                        第十讲 众包算法+视频10.3 众包的要素   \n36          36                       第十讲 众包算法+视频10.4 众包算法例析   \n\n                                           video_urls  \n0   https://mooc1vod.stu.126.net/nos/mp4/2014/06/2...  \n1   https://mooc1vod.stu.126.net/nos/mp4/2014/06/2...  \n2   https://mooc1vod.stu.126.net/nos/mp4/2014/06/2...  \n3   https://mooc1vod.stu.126.net/nos/mp4/2014/06/2...  \n4   https://mooc1vod.stu.126.net/nos/mp4/2014/06/2...  \n5   https://mooc1vod.stu.126.net/nos/mp4/2014/07/0...  \n6   https://mooc1vod.stu.126.net/nos/mp4/2014/07/0...  \n7   https://mooc1vod.stu.126.net/nos/mp4/2014/07/0...  \n8   https://mooc1vod.stu.126.net/nos/mp4/2014/07/0...  \n9   https://mooc1vod.stu.126.net/nos/mp4/2014/07/1...  \n10  https://mooc1vod.stu.126.net/nos/mp4/2014/07/1...  \n11  https://mooc1vod.stu.126.net/nos/mp4/2014/07/1...  \n12  https://mooc1vod.stu.126.net/nos/mp4/2014/07/1...  \n13  https://mooc1vod.stu.126.net/nos/mp4/2014/07/1...  \n14  https://mooc1vod.stu.126.net/nos/mp4/2014/07/2...  \n15  https://mooc1vod.stu.126.net/nos/mp4/2014/07/2...  \n16  https://mooc1vod.stu.126.net/nos/mp4/2014/07/2...  \n17  https://mooc1vod.stu.126.net/nos/mp4/2014/07/2...  \n18  https://mooc1vod.stu.126.net/nos/mp4/2014/07/2...  \n19  https://mooc1vod.stu.126.net/nos/mp4/2014/07/2...  \n20  https://mooc1vod.stu.126.net/nos/mp4/2014/07/2...  \n21  https://mooc1vod.stu.126.net/nos/mp4/2014/08/0...  \n22  https://mooc1vod.stu.126.net/nos/mp4/2014/08/0...  \n23  https://mooc1vod.stu.126.net/nos/mp4/2014/08/0...  \n24  https://mooc1vod.stu.126.net/nos/mp4/2014/08/0...  \n25  https://mooc1vod.stu.126.net/nos/mp4/2014/08/0...  \n26  https://mooc1vod.stu.126.net/nos/mp4/2014/08/0...  \n27  https://mooc1vod.stu.126.net/nos/mp4/2014/08/0...  \n28  https://mooc1vod.stu.126.net/nos/mp4/2014/08/0...  \n29  https://mooc1vod.stu.126.net/nos/mp4/2014/08/0...  \n30  https://mooc1vod.stu.126.net/nos/mp4/2014/08/0...  \n31  https://mooc1vod.stu.126.net/nos/mp4/2014/08/2...  \n32  https://mooc1vod.stu.126.net/nos/mp4/2014/08/2...  \n33  https://mooc1vod.stu.126.net/nos/mp4/2014/08/2...  \n34  https://mooc1vod.stu.126.net/nos/mp4/2014/08/2...  \n35  https://mooc1vod.stu.126.net/nos/mp4/2014/08/2...  \n36  https://mooc1vod.stu.126.net/nos/mp4/2014/08/2...  ",
      "text/html": "<div>\n<style scoped>\n    .dataframe tbody tr th:only-of-type {\n        vertical-align: middle;\n    }\n\n    .dataframe tbody tr th {\n        vertical-align: top;\n    }\n\n    .dataframe thead th {\n        text-align: right;\n    }\n</style>\n<table border=\"1\" class=\"dataframe\">\n  <thead>\n    <tr style=\"text-align: right;\">\n      <th></th>\n      <th>Unnamed: 0</th>\n      <th>names</th>\n      <th>video_urls</th>\n    </tr>\n  </thead>\n  <tbody>\n    <tr>\n      <th>0</th>\n      <td>0</td>\n      <td>第一讲 大数据算法概述+视频1.1大数据的定义与特点</td>\n      <td>https://mooc1vod.stu.126.net/nos/mp4/2014/06/2...</td>\n    </tr>\n    <tr>\n      <th>1</th>\n      <td>1</td>\n      <td>第一讲 大数据算法概述+视频1.2 大数据算法-求解大数据上计算问题的过程</td>\n      <td>https://mooc1vod.stu.126.net/nos/mp4/2014/06/2...</td>\n    </tr>\n    <tr>\n      <th>2</th>\n      <td>2</td>\n      <td>第一讲 大数据算法概述+视频1.2 大数据算法-大数据算法的定义</td>\n      <td>https://mooc1vod.stu.126.net/nos/mp4/2014/06/2...</td>\n    </tr>\n    <tr>\n      <th>3</th>\n      <td>3</td>\n      <td>第一讲 大数据算法概述+视频1.2 大数据算法-大数据算法的特点与难点</td>\n      <td>https://mooc1vod.stu.126.net/nos/mp4/2014/06/2...</td>\n    </tr>\n    <tr>\n      <th>4</th>\n      <td>4</td>\n      <td>第一讲 大数据算法概述+视频1.3 大数据算法设计与分析</td>\n      <td>https://mooc1vod.stu.126.net/nos/mp4/2014/06/2...</td>\n    </tr>\n    <tr>\n      <th>5</th>\n      <td>5</td>\n      <td>第二讲 亚线性算法+视频亚线性算法的定义</td>\n      <td>https://mooc1vod.stu.126.net/nos/mp4/2014/07/0...</td>\n    </tr>\n    <tr>\n      <th>6</th>\n      <td>6</td>\n      <td>第二讲 亚线性算法+视频水库抽样—空间亚线性算法</td>\n      <td>https://mooc1vod.stu.126.net/nos/mp4/2014/07/0...</td>\n    </tr>\n    <tr>\n      <th>7</th>\n      <td>7</td>\n      <td>第二讲 亚线性算法+视频平面图直径—时间亚线性计算算法</td>\n      <td>https://mooc1vod.stu.126.net/nos/mp4/2014/07/0...</td>\n    </tr>\n    <tr>\n      <th>8</th>\n      <td>8</td>\n      <td>第二讲 亚线性算法+视频全0数组判定—时间亚线性判定算法</td>\n      <td>https://mooc1vod.stu.126.net/nos/mp4/2014/07/0...</td>\n    </tr>\n    <tr>\n      <th>9</th>\n      <td>9</td>\n      <td>第三讲 亚线性算法例析+视频3.1 数据流中频繁元素-基础知识</td>\n      <td>https://mooc1vod.stu.126.net/nos/mp4/2014/07/1...</td>\n    </tr>\n    <tr>\n      <th>10</th>\n      <td>10</td>\n      <td>第三讲 亚线性算法例析+视频3.1 数据流中频繁元素-算法与分析</td>\n      <td>https://mooc1vod.stu.126.net/nos/mp4/2014/07/1...</td>\n    </tr>\n    <tr>\n      <th>11</th>\n      <td>11</td>\n      <td>第三讲 亚线性算法例析+视频3.2 生成树权重(一)</td>\n      <td>https://mooc1vod.stu.126.net/nos/mp4/2014/07/1...</td>\n    </tr>\n    <tr>\n      <th>12</th>\n      <td>12</td>\n      <td>第三讲 亚线性算法例析+视频3.2 生成树权重(二)</td>\n      <td>https://mooc1vod.stu.126.net/nos/mp4/2014/07/1...</td>\n    </tr>\n    <tr>\n      <th>13</th>\n      <td>13</td>\n      <td>第三讲 亚线性算法例析+视频3.3 数组有序性判定</td>\n      <td>https://mooc1vod.stu.126.net/nos/mp4/2014/07/1...</td>\n    </tr>\n    <tr>\n      <th>14</th>\n      <td>14</td>\n      <td>第四讲 外存算法概述+视频4.1 外存存储结构与外存算法</td>\n      <td>https://mooc1vod.stu.126.net/nos/mp4/2014/07/2...</td>\n    </tr>\n    <tr>\n      <th>15</th>\n      <td>15</td>\n      <td>第四讲 外存算法概述+视频4.2 外存排序算法(一)</td>\n      <td>https://mooc1vod.stu.126.net/nos/mp4/2014/07/2...</td>\n    </tr>\n    <tr>\n      <th>16</th>\n      <td>16</td>\n      <td>第四讲 外存算法概述+视频4.2 外存排序算法(二)[可选学]</td>\n      <td>https://mooc1vod.stu.126.net/nos/mp4/2014/07/2...</td>\n    </tr>\n    <tr>\n      <th>17</th>\n      <td>17</td>\n      <td>第四讲 外存算法概述+视频4.3 外存查找树</td>\n      <td>https://mooc1vod.stu.126.net/nos/mp4/2014/07/2...</td>\n    </tr>\n    <tr>\n      <th>18</th>\n      <td>18</td>\n      <td>第五讲 外存查找结构+视频B树(一)</td>\n      <td>https://mooc1vod.stu.126.net/nos/mp4/2014/07/2...</td>\n    </tr>\n    <tr>\n      <th>19</th>\n      <td>19</td>\n      <td>第五讲 外存查找结构+视频B树(二)</td>\n      <td>https://mooc1vod.stu.126.net/nos/mp4/2014/07/2...</td>\n    </tr>\n    <tr>\n      <th>20</th>\n      <td>20</td>\n      <td>第五讲 外存查找结构+视频KD树</td>\n      <td>https://mooc1vod.stu.126.net/nos/mp4/2014/07/2...</td>\n    </tr>\n    <tr>\n      <th>21</th>\n      <td>21</td>\n      <td>第六讲外存图数据算法+视频6.1 表排序及其应用</td>\n      <td>https://mooc1vod.stu.126.net/nos/mp4/2014/08/0...</td>\n    </tr>\n    <tr>\n      <th>22</th>\n      <td>22</td>\n      <td>第六讲外存图数据算法+视频6.2 时间前向处理方法</td>\n      <td>https://mooc1vod.stu.126.net/nos/mp4/2014/08/0...</td>\n    </tr>\n    <tr>\n      <th>23</th>\n      <td>23</td>\n      <td>第六讲外存图数据算法+视频6.3 缩图法</td>\n      <td>https://mooc1vod.stu.126.net/nos/mp4/2014/08/0...</td>\n    </tr>\n    <tr>\n      <th>24</th>\n      <td>24</td>\n      <td>第七讲 基于MapReduce的并行算法设计+视频7.1 MapReduce概述</td>\n      <td>https://mooc1vod.stu.126.net/nos/mp4/2014/08/0...</td>\n    </tr>\n    <tr>\n      <th>25</th>\n      <td>25</td>\n      <td>第七讲 基于MapReduce的并行算法设计+视频7.2 字数统计</td>\n      <td>https://mooc1vod.stu.126.net/nos/mp4/2014/08/0...</td>\n    </tr>\n    <tr>\n      <th>26</th>\n      <td>26</td>\n      <td>第七讲 基于MapReduce的并行算法设计+视频7.3 平均数计算</td>\n      <td>https://mooc1vod.stu.126.net/nos/mp4/2014/08/0...</td>\n    </tr>\n    <tr>\n      <th>27</th>\n      <td>27</td>\n      <td>第七讲 基于MapReduce的并行算法设计+视频7.4 单词贡献矩阵的计算</td>\n      <td>https://mooc1vod.stu.126.net/nos/mp4/2014/08/0...</td>\n    </tr>\n    <tr>\n      <th>28</th>\n      <td>28</td>\n      <td>第八讲 MapReduce算法例析+视频连接算法</td>\n      <td>https://mooc1vod.stu.126.net/nos/mp4/2014/08/0...</td>\n    </tr>\n    <tr>\n      <th>29</th>\n      <td>29</td>\n      <td>第八讲 MapReduce算法例析+视频图算法(一）</td>\n      <td>https://mooc1vod.stu.126.net/nos/mp4/2014/08/0...</td>\n    </tr>\n    <tr>\n      <th>30</th>\n      <td>30</td>\n      <td>第八讲 MapReduce算法例析+视频图算法(二)</td>\n      <td>https://mooc1vod.stu.126.net/nos/mp4/2014/08/0...</td>\n    </tr>\n    <tr>\n      <th>31</th>\n      <td>31</td>\n      <td>第九讲 超越MapReduce的并行大数据处理+视频9.1 基于迭代处理平台的并行算法</td>\n      <td>https://mooc1vod.stu.126.net/nos/mp4/2014/08/2...</td>\n    </tr>\n    <tr>\n      <th>32</th>\n      <td>32</td>\n      <td>第九讲 超越MapReduce的并行大数据处理+视频9.2 基于图处理平台的并行算法</td>\n      <td>https://mooc1vod.stu.126.net/nos/mp4/2014/08/2...</td>\n    </tr>\n    <tr>\n      <th>33</th>\n      <td>33</td>\n      <td>第十讲 众包算法+视频10.1 众包的定义</td>\n      <td>https://mooc1vod.stu.126.net/nos/mp4/2014/08/2...</td>\n    </tr>\n    <tr>\n      <th>34</th>\n      <td>34</td>\n      <td>第十讲 众包算法+视频10.2 众包的实例</td>\n      <td>https://mooc1vod.stu.126.net/nos/mp4/2014/08/2...</td>\n    </tr>\n    <tr>\n      <th>35</th>\n      <td>35</td>\n      <td>第十讲 众包算法+视频10.3 众包的要素</td>\n      <td>https://mooc1vod.stu.126.net/nos/mp4/2014/08/2...</td>\n    </tr>\n    <tr>\n      <th>36</th>\n      <td>36</td>\n      <td>第十讲 众包算法+视频10.4 众包算法例析</td>\n      <td>https://mooc1vod.stu.126.net/nos/mp4/2014/08/2...</td>\n    </tr>\n  </tbody>\n</table>\n</div>"
     },
     "metadata": {},
     "output_type": "display_data"
    }
   ],
   "source": [
    "import requests\n",
    "import asyncio\n",
    "import aiohttp\n",
    "import pandas as pd\n",
    "# 流程\n",
    "# 1. 我们首先先从文件中读取全部的urls和对应的文件名称---->这里会得到两个列表\n",
    "# 2. 使用异步的操作实现下载视频文件\n",
    "# 3. 对视频文件进行分离（分离为音频文件和视频文件）\n",
    "\n",
    "# 此处在和chrome合并的时候我们能够将其进行修改（这里代码的主要作用是得到两个列表）\n",
    "df1 = pd.read_table('./大数据算法_video_urls.txt',sep=',')\n",
    "display(df1)\n",
    "names = df1[\"names\"].tolist()\n",
    "urls = df1[\"video_urls\"].tolist()\n",
    "# print(names)\n",
    "# print(urls)\n",
    "\n",
    "async def aiodownload(url,name):\n",
    "    '''\n",
    "    该函数的主要作用是实现异步爬虫\n",
    "    :param url: 传入对应视频的url\n",
    "    :param name: 传入对应视频的名称\n",
    "    :return:\n",
    "    '''\n",
    "    #发送请求  s=aiohttp.ClientSession()   <=====> requests\n",
    "    async with aiohttp.ClientSession() as session:\n",
    "        name = './video/'+name + '.mp4'\n",
    "        async with session.get(url) as resp:\n",
    "            #请求回来了之后写入文件\n",
    "            # resp.content.read()\n",
    "            #aiofiles 可以自己去学习一个模块\n",
    "            with open(name,'wb') as f:\n",
    "                f.write(await resp.content.read())   #读取的内容是异步的，需要await挂起\n",
    "\n",
    "\n",
    "async def main():\n",
    "    tasks=[]\n",
    "    for url,name in zip(urls,names):\n",
    "        tasks.append(aiodownload(url,name))\n",
    "    await asyncio.wait(tasks)\n",
    "await(main())"
   ]
  },
  {
   "cell_type": "code",
   "execution_count": 18,
   "outputs": [
    {
     "name": "stdout",
     "output_type": "stream",
     "text": [
      "Looking in indexes: https://pypi.tuna.tsinghua.edu.cn/simple"
     ]
    },
    {
     "name": "stderr",
     "output_type": "stream",
     "text": [
      "WARNING: You are using pip version 22.0.2; however, version 22.1.2 is available.\n",
      "You should consider upgrading via the 'E:\\python file\\Scripts\\python.exe -m pip install --upgrade pip' command.\n"
     ]
    },
    {
     "name": "stdout",
     "output_type": "stream",
     "text": [
      "\n",
      "Collecting ffmpeg\n",
      "  Downloading https://pypi.tuna.tsinghua.edu.cn/packages/f0/cc/3b7408b8ecf7c1d20ad480c3eaed7619857bf1054b690226e906fdf14258/ffmpeg-1.4.tar.gz (5.1 kB)\n",
      "  Preparing metadata (setup.py): started\n",
      "  Preparing metadata (setup.py): finished with status 'done'\n",
      "Collecting moviepy\n",
      "  Downloading https://pypi.tuna.tsinghua.edu.cn/packages/18/54/01a8c4e35c75ca9724d19a7e4de9dc23f0ceb8769102c7de056113af61c3/moviepy-1.0.3.tar.gz (388 kB)\n",
      "     ------------------------------------ 388.3/388.3 KB 484.1 kB/s eta 0:00:00\n",
      "  Preparing metadata (setup.py): started\n",
      "  Preparing metadata (setup.py): finished with status 'done'\n",
      "Collecting decorator<5.0,>=4.0.2\n",
      "  Downloading https://pypi.tuna.tsinghua.edu.cn/packages/ed/1b/72a1821152d07cf1d8b6fce298aeb06a7eb90f4d6d41acec9861e7cc6df0/decorator-4.4.2-py2.py3-none-any.whl (9.2 kB)\n",
      "Requirement already satisfied: tqdm<5.0,>=4.11.2 in e:\\python file\\lib\\site-packages (from moviepy) (4.62.2)\n",
      "Requirement already satisfied: requests<3.0,>=2.8.1 in e:\\python file\\lib\\site-packages (from moviepy) (2.18.4)\n",
      "Collecting proglog<=1.0.0\n",
      "  Downloading https://pypi.tuna.tsinghua.edu.cn/packages/8b/f5/cab5cf6a540c31f5099043de0ae43990fd9cf66f75ecb5e9f254a4e4d4ee/proglog-0.1.10-py3-none-any.whl (6.1 kB)\n",
      "Requirement already satisfied: numpy>=1.17.3 in e:\\python file\\lib\\site-packages (from moviepy) (1.22.2+mkl)\n",
      "Requirement already satisfied: imageio<3.0,>=2.5 in e:\\python file\\lib\\site-packages (from moviepy) (2.9.0)\n",
      "Collecting imageio_ffmpeg>=0.2.0\n",
      "  Downloading https://pypi.tuna.tsinghua.edu.cn/packages/b7/d2/d838be81d375cc461083a30fca976ce325d052bf5ece1bfe9a4fe92d0a57/imageio_ffmpeg-0.4.7-py3-none-win_amd64.whl (22.6 MB)\n",
      "     ---------------------------------------- 22.6/22.6 MB 1.1 MB/s eta 0:00:00\n",
      "Requirement already satisfied: pillow in e:\\python file\\lib\\site-packages (from imageio<3.0,>=2.5->moviepy) (8.2.0)\n",
      "Requirement already satisfied: idna<2.7,>=2.5 in e:\\python file\\lib\\site-packages (from requests<3.0,>=2.8.1->moviepy) (2.6)\n",
      "Requirement already satisfied: certifi>=2017.4.17 in e:\\python file\\lib\\site-packages (from requests<3.0,>=2.8.1->moviepy) (2020.12.5)\n",
      "Requirement already satisfied: urllib3<1.23,>=1.21.1 in e:\\python file\\lib\\site-packages (from requests<3.0,>=2.8.1->moviepy) (1.22)\n",
      "Requirement already satisfied: chardet<3.1.0,>=3.0.2 in e:\\python file\\lib\\site-packages (from requests<3.0,>=2.8.1->moviepy) (3.0.4)\n",
      "Requirement already satisfied: colorama in e:\\python file\\lib\\site-packages (from tqdm<5.0,>=4.11.2->moviepy) (0.4.4)\n",
      "Building wheels for collected packages: ffmpeg, moviepy\n",
      "  Building wheel for ffmpeg (setup.py): started\n",
      "  Building wheel for ffmpeg (setup.py): finished with status 'done'\n",
      "  Created wheel for ffmpeg: filename=ffmpeg-1.4-py3-none-any.whl size=6083 sha256=479cee73af6729acedfaf05d96bd0ca4c19088f99971a0c491c17e67bf3856d3\n",
      "  Stored in directory: c:\\users\\lucien7676\\appdata\\local\\pip\\cache\\wheels\\83\\8d\\63\\83e43763c2e69d29fccb4cd72ffdc8160a6d90a365f06ff36c\n",
      "  Building wheel for moviepy (setup.py): started\n",
      "  Building wheel for moviepy (setup.py): finished with status 'done'\n",
      "  Created wheel for moviepy: filename=moviepy-1.0.3-py3-none-any.whl size=110726 sha256=7c49190088982a4014e0ca6649be022b6982a4b4130485ef37085519779c3d80\n",
      "  Stored in directory: c:\\users\\lucien7676\\appdata\\local\\pip\\cache\\wheels\\e9\\1e\\f0\\e1957cfe0900ee45b58986e568e5ff0b44a385cee00e4874f0\n",
      "Successfully built ffmpeg moviepy\n",
      "Installing collected packages: ffmpeg, imageio_ffmpeg, decorator, proglog, moviepy\n",
      "  Attempting uninstall: decorator\n",
      "    Found existing installation: decorator 5.0.9\n",
      "    Uninstalling decorator-5.0.9:\n",
      "      Successfully uninstalled decorator-5.0.9\n",
      "Successfully installed decorator-4.4.2 ffmpeg-1.4 imageio_ffmpeg-0.4.7 moviepy-1.0.3 proglog-0.1.10\n"
     ]
    }
   ],
   "source": [
    "!pip install ffmpeg moviepy"
   ],
   "metadata": {
    "collapsed": false,
    "pycharm": {
     "name": "#%%\n"
    }
   }
  },
  {
   "cell_type": "code",
   "execution_count": 46,
   "outputs": [
    {
     "ename": "TypeError",
     "evalue": "'str' object is not callable",
     "output_type": "error",
     "traceback": [
      "\u001B[1;31m---------------------------------------------------------------------------\u001B[0m",
      "\u001B[1;31mTypeError\u001B[0m                                 Traceback (most recent call last)",
      "\u001B[1;32m<ipython-input-46-c4848f273081>\u001B[0m in \u001B[0;36m<module>\u001B[1;34m\u001B[0m\n\u001B[0;32m     15\u001B[0m \u001B[1;31m#     #extract_audio(video_path)\u001B[0m\u001B[1;33m\u001B[0m\u001B[1;33m\u001B[0m\u001B[1;33m\u001B[0m\u001B[0m\n\u001B[0;32m     16\u001B[0m \u001B[1;31m#     print(video_path)\u001B[0m\u001B[1;33m\u001B[0m\u001B[1;33m\u001B[0m\u001B[1;33m\u001B[0m\u001B[0m\n\u001B[1;32m---> 17\u001B[1;33m \u001B[0mextract_audio\u001B[0m\u001B[1;33m(\u001B[0m\u001B[1;34mr'E:\\python_all_files\\python_file\\项目相关\\abc.mp4'\u001B[0m\u001B[1;33m)\u001B[0m\u001B[1;33m\u001B[0m\u001B[1;33m\u001B[0m\u001B[0m\n\u001B[0m",
      "\u001B[1;32m<ipython-input-46-c4848f273081>\u001B[0m in \u001B[0;36mextract_audio\u001B[1;34m(video_path)\u001B[0m\n\u001B[0;32m      4\u001B[0m \u001B[1;33m\u001B[0m\u001B[0m\n\u001B[0;32m      5\u001B[0m \u001B[1;32mdef\u001B[0m \u001B[0mextract_audio\u001B[0m\u001B[1;33m(\u001B[0m\u001B[0mvideo_path\u001B[0m\u001B[1;33m)\u001B[0m\u001B[1;33m:\u001B[0m\u001B[1;33m\u001B[0m\u001B[1;33m\u001B[0m\u001B[0m\n\u001B[1;32m----> 6\u001B[1;33m     \u001B[0mmycilp\u001B[0m \u001B[1;33m=\u001B[0m \u001B[0mmp\u001B[0m\u001B[1;33m.\u001B[0m\u001B[0mVideoClip\u001B[0m\u001B[1;33m(\u001B[0m\u001B[0mvideo_path\u001B[0m\u001B[1;33m)\u001B[0m\u001B[1;33m\u001B[0m\u001B[1;33m\u001B[0m\u001B[0m\n\u001B[0m\u001B[0;32m      7\u001B[0m     \u001B[0mfile_name\u001B[0m \u001B[1;33m=\u001B[0m \u001B[0mvideo_path\u001B[0m\u001B[1;33m.\u001B[0m\u001B[0msplit\u001B[0m\u001B[1;33m(\u001B[0m\u001B[1;34m'/'\u001B[0m\u001B[1;33m)\u001B[0m\u001B[1;33m[\u001B[0m\u001B[1;33m-\u001B[0m\u001B[1;36m1\u001B[0m\u001B[1;33m]\u001B[0m\u001B[1;33m.\u001B[0m\u001B[0msplit\u001B[0m\u001B[1;33m(\u001B[0m\u001B[1;34m'.mp4'\u001B[0m\u001B[1;33m)\u001B[0m\u001B[1;33m[\u001B[0m\u001B[1;36m0\u001B[0m\u001B[1;33m]\u001B[0m\u001B[1;33m\u001B[0m\u001B[1;33m\u001B[0m\u001B[0m\n\u001B[0;32m      8\u001B[0m     \u001B[0mmycilp\u001B[0m\u001B[1;33m.\u001B[0m\u001B[0maudio\u001B[0m\u001B[1;33m.\u001B[0m\u001B[0mwrite_audiofile\u001B[0m\u001B[1;33m(\u001B[0m\u001B[1;34mf'./audio/{file_name}.mp3'\u001B[0m\u001B[1;33m)\u001B[0m\u001B[1;33m\u001B[0m\u001B[1;33m\u001B[0m\u001B[0m\n",
      "\u001B[1;32me:\\python file\\lib\\site-packages\\moviepy\\video\\VideoClip.py\u001B[0m in \u001B[0;36m__init__\u001B[1;34m(self, make_frame, ismask, duration, has_constant_size)\u001B[0m\n\u001B[0;32m     84\u001B[0m         \u001B[1;32mif\u001B[0m \u001B[0mmake_frame\u001B[0m\u001B[1;33m:\u001B[0m\u001B[1;33m\u001B[0m\u001B[1;33m\u001B[0m\u001B[0m\n\u001B[0;32m     85\u001B[0m             \u001B[0mself\u001B[0m\u001B[1;33m.\u001B[0m\u001B[0mmake_frame\u001B[0m \u001B[1;33m=\u001B[0m \u001B[0mmake_frame\u001B[0m\u001B[1;33m\u001B[0m\u001B[1;33m\u001B[0m\u001B[0m\n\u001B[1;32m---> 86\u001B[1;33m             \u001B[0mself\u001B[0m\u001B[1;33m.\u001B[0m\u001B[0msize\u001B[0m \u001B[1;33m=\u001B[0m \u001B[0mself\u001B[0m\u001B[1;33m.\u001B[0m\u001B[0mget_frame\u001B[0m\u001B[1;33m(\u001B[0m\u001B[1;36m0\u001B[0m\u001B[1;33m)\u001B[0m\u001B[1;33m.\u001B[0m\u001B[0mshape\u001B[0m\u001B[1;33m[\u001B[0m\u001B[1;33m:\u001B[0m\u001B[1;36m2\u001B[0m\u001B[1;33m]\u001B[0m\u001B[1;33m[\u001B[0m\u001B[1;33m:\u001B[0m\u001B[1;33m:\u001B[0m\u001B[1;33m-\u001B[0m\u001B[1;36m1\u001B[0m\u001B[1;33m]\u001B[0m\u001B[1;33m\u001B[0m\u001B[1;33m\u001B[0m\u001B[0m\n\u001B[0m\u001B[0;32m     87\u001B[0m         \u001B[0mself\u001B[0m\u001B[1;33m.\u001B[0m\u001B[0mismask\u001B[0m \u001B[1;33m=\u001B[0m \u001B[0mismask\u001B[0m\u001B[1;33m\u001B[0m\u001B[1;33m\u001B[0m\u001B[0m\n\u001B[0;32m     88\u001B[0m         \u001B[0mself\u001B[0m\u001B[1;33m.\u001B[0m\u001B[0mhas_constant_size\u001B[0m\u001B[1;33m=\u001B[0m\u001B[0mhas_constant_size\u001B[0m\u001B[1;33m\u001B[0m\u001B[1;33m\u001B[0m\u001B[0m\n",
      "\u001B[1;32me:\\python file\\lib\\site-packages\\decorator.py\u001B[0m in \u001B[0;36mfun\u001B[1;34m(*args, **kw)\u001B[0m\n\u001B[0;32m    230\u001B[0m     \u001B[0mevaldict\u001B[0m \u001B[1;33m=\u001B[0m \u001B[0mdict\u001B[0m\u001B[1;33m(\u001B[0m\u001B[0m_call_\u001B[0m\u001B[1;33m=\u001B[0m\u001B[0mcaller\u001B[0m\u001B[1;33m,\u001B[0m \u001B[0m_func_\u001B[0m\u001B[1;33m=\u001B[0m\u001B[0mfunc\u001B[0m\u001B[1;33m)\u001B[0m\u001B[1;33m\u001B[0m\u001B[1;33m\u001B[0m\u001B[0m\n\u001B[0;32m    231\u001B[0m     \u001B[0mes\u001B[0m \u001B[1;33m=\u001B[0m \u001B[1;34m''\u001B[0m\u001B[1;33m\u001B[0m\u001B[1;33m\u001B[0m\u001B[0m\n\u001B[1;32m--> 232\u001B[1;33m     \u001B[1;32mfor\u001B[0m \u001B[0mi\u001B[0m\u001B[1;33m,\u001B[0m \u001B[0mextra\u001B[0m \u001B[1;32min\u001B[0m \u001B[0menumerate\u001B[0m\u001B[1;33m(\u001B[0m\u001B[0mextras\u001B[0m\u001B[1;33m)\u001B[0m\u001B[1;33m:\u001B[0m\u001B[1;33m\u001B[0m\u001B[1;33m\u001B[0m\u001B[0m\n\u001B[0m\u001B[0;32m    233\u001B[0m         \u001B[0mex\u001B[0m \u001B[1;33m=\u001B[0m \u001B[1;34m'_e%d_'\u001B[0m \u001B[1;33m%\u001B[0m \u001B[0mi\u001B[0m\u001B[1;33m\u001B[0m\u001B[1;33m\u001B[0m\u001B[0m\n\u001B[0;32m    234\u001B[0m         \u001B[0mevaldict\u001B[0m\u001B[1;33m[\u001B[0m\u001B[0mex\u001B[0m\u001B[1;33m]\u001B[0m \u001B[1;33m=\u001B[0m \u001B[0mextra\u001B[0m\u001B[1;33m\u001B[0m\u001B[1;33m\u001B[0m\u001B[0m\n",
      "\u001B[1;32me:\\python file\\lib\\site-packages\\moviepy\\decorators.py\u001B[0m in \u001B[0;36mwrapper\u001B[1;34m(f, *a, **kw)\u001B[0m\n\u001B[0;32m     87\u001B[0m         new_kw = {k: fun(v) if k in varnames else v\n\u001B[0;32m     88\u001B[0m                  for (k,v) in kw.items()}\n\u001B[1;32m---> 89\u001B[1;33m         \u001B[1;32mreturn\u001B[0m \u001B[0mf\u001B[0m\u001B[1;33m(\u001B[0m\u001B[1;33m*\u001B[0m\u001B[0mnew_a\u001B[0m\u001B[1;33m,\u001B[0m \u001B[1;33m**\u001B[0m\u001B[0mnew_kw\u001B[0m\u001B[1;33m)\u001B[0m\u001B[1;33m\u001B[0m\u001B[1;33m\u001B[0m\u001B[0m\n\u001B[0m\u001B[0;32m     90\u001B[0m     \u001B[1;32mreturn\u001B[0m \u001B[0mdecorator\u001B[0m\u001B[1;33m.\u001B[0m\u001B[0mdecorator\u001B[0m\u001B[1;33m(\u001B[0m\u001B[0mwrapper\u001B[0m\u001B[1;33m)\u001B[0m\u001B[1;33m\u001B[0m\u001B[1;33m\u001B[0m\u001B[0m\n\u001B[0;32m     91\u001B[0m \u001B[1;33m\u001B[0m\u001B[0m\n",
      "\u001B[1;32me:\\python file\\lib\\site-packages\\moviepy\\Clip.py\u001B[0m in \u001B[0;36mget_frame\u001B[1;34m(self, t)\u001B[0m\n\u001B[0;32m     91\u001B[0m                 \u001B[1;32mreturn\u001B[0m \u001B[0mframe\u001B[0m\u001B[1;33m\u001B[0m\u001B[1;33m\u001B[0m\u001B[0m\n\u001B[0;32m     92\u001B[0m         \u001B[1;32melse\u001B[0m\u001B[1;33m:\u001B[0m\u001B[1;33m\u001B[0m\u001B[1;33m\u001B[0m\u001B[0m\n\u001B[1;32m---> 93\u001B[1;33m             \u001B[1;32mreturn\u001B[0m \u001B[0mself\u001B[0m\u001B[1;33m.\u001B[0m\u001B[0mmake_frame\u001B[0m\u001B[1;33m(\u001B[0m\u001B[0mt\u001B[0m\u001B[1;33m)\u001B[0m\u001B[1;33m\u001B[0m\u001B[1;33m\u001B[0m\u001B[0m\n\u001B[0m\u001B[0;32m     94\u001B[0m \u001B[1;33m\u001B[0m\u001B[0m\n\u001B[0;32m     95\u001B[0m     \u001B[1;32mdef\u001B[0m \u001B[0mfl\u001B[0m\u001B[1;33m(\u001B[0m\u001B[0mself\u001B[0m\u001B[1;33m,\u001B[0m \u001B[0mfun\u001B[0m\u001B[1;33m,\u001B[0m \u001B[0mapply_to\u001B[0m\u001B[1;33m=\u001B[0m\u001B[1;32mNone\u001B[0m\u001B[1;33m,\u001B[0m \u001B[0mkeep_duration\u001B[0m\u001B[1;33m=\u001B[0m\u001B[1;32mTrue\u001B[0m\u001B[1;33m)\u001B[0m\u001B[1;33m:\u001B[0m\u001B[1;33m\u001B[0m\u001B[1;33m\u001B[0m\u001B[0m\n",
      "\u001B[1;31mTypeError\u001B[0m: 'str' object is not callable"
     ]
    }
   ],
   "source": [
    "# 下面实现对视频文件和音频文件进行分离\n",
    "import moviepy.editor as mp\n",
    "import os\n",
    "\n",
    "def extract_audio(video_path):\n",
    "    mycilp = mp.VideoClip(video_path)\n",
    "    file_name = video_path.split('/')[-1].split('.mp4')[0]\n",
    "    mycilp.audio.write_audiofile(f'./audio/{file_name}.mp3')\n",
    "\n",
    "\n",
    "# 获取所有的视频文件对应的位置\n",
    "# video_name_lst = os.listdir('./video')\n",
    "# for v_name in video_name_lst:\n",
    "#     video_path = './video/'+ v_name\n",
    "#     #extract_audio(video_path)\n",
    "#     print(video_path)\n",
    "extract_audio(r'E:\\python_all_files\\python_file\\项目相关\\abc.mp4')"
   ],
   "metadata": {
    "collapsed": false,
    "pycharm": {
     "name": "#%%\n"
    }
   }
  },
  {
   "cell_type": "code",
   "execution_count": 34,
   "outputs": [
    {
     "data": {
      "text/plain": "'E:\\\\python_all_files\\\\python_file\\\\项目相关'"
     },
     "execution_count": 34,
     "metadata": {},
     "output_type": "execute_result"
    }
   ],
   "source": [
    "os.getcwd()"
   ],
   "metadata": {
    "collapsed": false,
    "pycharm": {
     "name": "#%%\n"
    }
   }
  },
  {
   "cell_type": "code",
   "execution_count": null,
   "outputs": [],
   "source": [],
   "metadata": {
    "collapsed": false,
    "pycharm": {
     "name": "#%%\n"
    }
   }
  }
 ],
 "metadata": {
  "kernelspec": {
   "display_name": "Python 3",
   "language": "python",
   "name": "python3"
  },
  "language_info": {
   "codemirror_mode": {
    "name": "ipython",
    "version": 2
   },
   "file_extension": ".py",
   "mimetype": "text/x-python",
   "name": "python",
   "nbconvert_exporter": "python",
   "pygments_lexer": "ipython2",
   "version": "2.7.6"
  }
 },
 "nbformat": 4,
 "nbformat_minor": 0
}