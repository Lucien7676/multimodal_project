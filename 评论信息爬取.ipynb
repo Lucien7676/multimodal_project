{
 "cells": [
  {
   "cell_type": "markdown",
   "metadata": {
    "pycharm": {
     "name": "#%% md\n"
    }
   },
   "source": [
    "# 课程评论与用户信息爬取"
   ]
  },
  {
   "cell_type": "markdown",
   "metadata": {
    "pycharm": {
     "name": "#%% md\n"
    }
   },
   "source": [
    "## 思路\n",
    "- 想法：输出三种类型的文件\n",
    "    - 第一种类型： 200个选课_v3，课程增加一列课程简介，在这个200个选课种我们其实就包含了课程的基本信息以及课程总体打分\n",
    "    - 第二种类型： 每个课对应一个excel文件，专门存储每一个课程评价信息，课程评价又会包括user_id，user_score,user_thumb_up等等\n",
    "    - 第三种类型： 将第二种类型的文件进行user_id进行取集合（也就是去重的操作），然后慢慢盘它，这个有个问题就是网速问题和网页喧嚷问题，只能单独拿出来盘它了。\n",
    "- 讨论区暂定（还不知道以什么形式爬取，目前没想法）"
   ]
  },
  {
   "cell_type": "code",
   "execution_count": 1,
   "metadata": {
    "pycharm": {
     "name": "#%%\n"
    }
   },
   "outputs": [],
   "source": [
    "from IPython.core.interactiveshell import InteractiveShell\n",
    "InteractiveShell.ast_node_interactivity=\"all\""
   ]
  },
  {
   "cell_type": "code",
   "execution_count": 2,
   "metadata": {
    "ExecuteTime": {
     "end_time": "2022-07-28T09:08:57.120128Z",
     "start_time": "2022-07-28T09:08:55.737843Z"
    },
    "pycharm": {
     "name": "#%%\n"
    }
   },
   "outputs": [],
   "source": [
    "# 导入相关的库\n",
    "import os\n",
    "import time\n",
    "import emoji\n",
    "# import asyncio\n",
    "# import requests\n",
    "import pandas as pd\n",
    "# import xlwings as xw\n",
    "# from lxml import etree\n",
    "# from bs4 import BeautifulSoup\n",
    "from selenium import webdriver\n",
    "# from scrapy.http import HtmlResponse\n",
    "from selenium.webdriver.common.by import By\n",
    "import re"
   ]
  },
  {
   "cell_type": "markdown",
   "metadata": {
    "pycharm": {
     "name": "#%% md\n"
    }
   },
   "source": [
    "### 定义一个类"
   ]
  },
  {
   "cell_type": "code",
   "execution_count": 4,
   "metadata": {
    "pycharm": {
     "name": "#%%\n"
    }
   },
   "outputs": [],
   "source": [
    "class Data_collector():\n",
    "    '''\n",
    "    这个类的主要作用是方便后面的代码的可读性，将一些重复的操作实现模块化处理\n",
    "    '''\n",
    "    def __init__(self,excel_path):\n",
    "        '''\n",
    "        :param excel_path: 200个选课_v2的地址\n",
    "        这里的作用是定义了四个属性,df_200,new_names,course200_urls,driver\n",
    "        '''\n",
    "        # 初始化参数\n",
    "        self.df_200 = pd.read_excel(excel_path)\n",
    "\n",
    "        # 合并一个课程名称（开课单位-开课老师）\n",
    "        course_name = self.df_200['课程名称'].tolist()\n",
    "        course_unit = self.df_200['开课单位'].tolist()\n",
    "        course_teachers = self.df_200['开课老师'].tolist()\n",
    "\n",
    "        self.new_names = [f\"{it1}({it2}-{it3})\" for it1,it2,it3 in zip(course_name,course_unit,course_teachers)]\n",
    "        self.course200_urls = self.df_200['课程url'].tolist()\n",
    "\n",
    "        self.driver = webdriver.Chrome()\n",
    "\n",
    "    # 定义类方法\n",
    "    def login(self):\n",
    "        '''\n",
    "        这个类方法的主要作用是进行登陆的操作\n",
    "        '''\n",
    "        # 首先先处理登陆的操作\n",
    "        # 准备对应的url地址\n",
    "        url = \"https://www.icourse163.org/\"\n",
    "\n",
    "        # 下面主要先进行处理登陆的问题\n",
    "        person = {\n",
    "            # \"account\" : \"13501408005\" ,\n",
    "            # \"password\": \"qazwsx123520\",\n",
    "            \"account\" : \"13539651927\"     ,\n",
    "            \"password\": \"qazmlp123456@...\"\n",
    "        }\n",
    "\n",
    "        # 首先创建一个driver实例对象\n",
    "        self.driver.maximize_window()\n",
    "\n",
    "        # 避开 chrome 检测\n",
    "        self.driver.execute_cdp_cmd(\n",
    "            \"Page.addScriptToEvaluateOnNewDocument\",\n",
    "            {\n",
    "                \"source\": \"\"\"Object.defineProperty(navigator, 'webdriver', {get: () => undefined})\"\"\"\n",
    "            }\n",
    "        )\n",
    "\n",
    "        # 打开对应的网站\n",
    "        self.driver.get(url)\n",
    "\n",
    "        # 登录\n",
    "        self.driver.find_element(by=By.CSS_SELECTOR,value=\"#j-topnav > div > a\").click()\n",
    "        # 其他登录方式\n",
    "        self.driver.find_element(by=By.CSS_SELECTOR,value=\"div.ux-login-set-scan-code_ft > span\").click()\n",
    "        # 手机号登录\n",
    "        self.driver.find_element(by=By.CSS_SELECTOR,value=\"div.ux-tabs-underline > ul > li:nth-child(2)\").click()\n",
    "        self.driver.switch_to.frame(self.driver.find_element(by=By.CSS_SELECTOR,value=\"div.ux-login-urs-phone-wrap.f-pr > div > iframe\"))\n",
    "\n",
    "        # 输入账号\n",
    "        self.driver.find_element(by=By.XPATH,value=\"/html/body/div[2]/div[2]/div[2]/form/div/div[2]/div[2]/input\").clear()\n",
    "        self.driver.find_element(by=By.XPATH,value=\"/html/body/div[2]/div[2]/div[2]/form/div/div[2]/div[2]/input\").send_keys(person[\"account\"])\n",
    "        # 输入密码\n",
    "        self.driver.find_element(by=By.XPATH,value=\"/html/body/div[2]/div[2]/div[2]/form/div/div[4]/div[2]/input[2]\").clear()\n",
    "        self.driver.find_element(by=By.XPATH,value=\"/html/body/div[2]/div[2]/div[2]/form/div/div[4]/div[2]/input[2]\").send_keys(person[\"password\"])\n",
    "\n",
    "        time.sleep(1)\n",
    "        # 登录\n",
    "        self.driver.find_element(by=By.XPATH,value=\"//div[@class='m-container']/div[@class='u-tab f-cb']//following::div[@class='f-cb loginbox']\").click()\n",
    "\n",
    "        time.sleep(2)\n",
    "        self.driver.implicitly_wait(5)\n",
    "\n",
    "    def to_course_pages(self,course_name):\n",
    "        '''\n",
    "        这个函数主要作用时进入对应的课程的页面\n",
    "        :param course_name: 表示的是课程的名称\n",
    "        :return: 进入到对应的课程页面中\n",
    "        '''\n",
    "        # 首先先提取出对应的课程名称和课程url\n",
    "        index = self.new_names.index(course_name)\n",
    "        course_url = self.course200_urls[index]\n",
    "        self.driver.execute_script(\"window.open('{}');\".format(course_url))\n",
    "        # 切换窗口\n",
    "        self.driver.switch_to.window(self.driver.window_handles[-1])\n",
    "\n",
    "    def scrapy_course_introduction(self):\n",
    "        content_elements = self.driver.find_elements(by=By.CSS_SELECTOR,value=\"#content-section > div:nth-child(4) > div > p\")\n",
    "        content = ''.join([t.text for t in content_elements])\n",
    "        # print(content)\n",
    "        # print(len(content))\n",
    "        return content\n",
    "\n",
    "    def close_page(self):\n",
    "        # 实现页面关闭\n",
    "        self.driver.close()\n",
    "        # 并且切换页面\n",
    "        self.driver.switch_to.window(self.driver.window_handles[-1])\n",
    "\n",
    "    def generate_v3(self):\n",
    "        content_lst = []\n",
    "        for name,url in zip(self.new_names,self.course200_urls):\n",
    "            # 首先先进入到对应的课程页面，然后对页面的课程简介进行爬取\n",
    "            self.to_course_pages(name)\n",
    "            tp_content = self.scrapy_course_introduction()\n",
    "            # 有些课特别恶心，它的课程简介是以公众号那种类型来进行展示的，所以提取到的content为空\n",
    "            if len(tp_content) == 0:\n",
    "                tp_content = '需要人工进行爬取'\n",
    "            content_lst.append(tp_content)\n",
    "            print(name)\n",
    "            # 关闭这个课程的页面\n",
    "            self.close_page()\n",
    "\n",
    "        # 下面进行合成excel文件变成    200个选课_v3.excel\n",
    "        new_df = self.df_200.copy()\n",
    "        new_df['课程简介'] = content_lst\n",
    "        new_df.to_excel('200个选课_V3.xlsx',index=False)\n",
    "\n",
    "    def generate_type2_dict(self):\n",
    "        dic = {\n",
    "        \"comments\":[],\n",
    "        \"comments_thumbs_up\":[],\n",
    "        \"comments_stars\":[],\n",
    "        \"user_url\": [],\n",
    "        \"user_name\": []\n",
    "        }\n",
    "        return dic\n",
    "\n",
    "    # 规范字符串\n",
    "    def canonical_string(self,s):\n",
    "        # 有一些课程搞事情，名字里面包含了一些字符，文件命名的时候不能出现冒号等一些特殊符号，这里通过正则表达式进行文本的清洗\n",
    "        return re.sub(r\"[\\:|\\\\|\\/|\\*|\\?|\\\"|\\<|\\>|\\|]+\",\"\",s)\n",
    "\n",
    "    def scrapy_comments_and_user_name(self,start,end):\n",
    "        # 此处会爬的东西主要有三个:评论正文,评论点赞个数,评论打分,user_id,user的info，再加一列\n",
    "        # 首先先创建文件夹\n",
    "        if not os.path.exists('全部课程_comments'):\n",
    "            os.makedirs('全部课程_comments')\n",
    "        print(self.new_names[(start-1):(end)])\n",
    "        for name,url in zip(self.new_names[(start-1):(end)],self.course200_urls[(start-1):(end)]):\n",
    "            #print(name, url, sep=\"\\t\")\n",
    "            excel_name = f\"./全部课程_comments/{self.canonical_string(name)}.xlsx\"\n",
    "            # 首先先到达对应的页面\n",
    "            self.to_course_pages(name)\n",
    "            # 点击课程评价\n",
    "            self.driver.find_element(by=By.CSS_SELECTOR,value=\"#review-tag-button\").click()\n",
    "\n",
    "            # 获取对应的课程字典\n",
    "            tp_dict = self.generate_type2_dict()\n",
    "\n",
    "            # 首先获取评论三列\n",
    "            # 评论数\n",
    "            comment_num = int(self.driver.find_element(by=By.CSS_SELECTOR,value=\"#review-tag-num\").text[1:-1])\n",
    "\n",
    "            # 页数\n",
    "            quotient = comment_num // 20\n",
    "            # 逐页点开\n",
    "            for i in range(1,quotient+2):\n",
    "\n",
    "                # 把所有需要展开的先展开\n",
    "                unfold = self.driver.find_elements(by=By.CSS_SELECTOR,value=\"div.ux-mooc-comment-course-comment_comment-list_item_body_content > span:nth-child(2)\")\n",
    "                for j in unfold:\n",
    "                    j.click()\n",
    "\n",
    "                # 评论正文\n",
    "                comment = self.driver.find_elements(by=By.CSS_SELECTOR,value=\"div.ux-mooc-comment-course-comment_comment-list_item_body_content > span\")\n",
    "                comment_lst = [damn1.text for damn1 in comment]\n",
    "                tp_dict['comments'] = tp_dict['comments']+comment_lst\n",
    "\n",
    "                # 点赞数\n",
    "                thumbs_up = self.driver.find_elements(by=By.CSS_SELECTOR,value=\"div.ux-mooc-comment-course-comment_comment-list_item_body_comment-info_actions > span > span > span:nth-child(2)\")\n",
    "                thumbs_up_lst = [damn2.text for damn2 in thumbs_up]\n",
    "                tp_dict['comments_thumbs_up'] = tp_dict['comments_thumbs_up']+thumbs_up_lst\n",
    "\n",
    "                # 给星 **那个位置** 的对象\n",
    "                stars = self.driver.find_elements(by=By.CSS_SELECTOR,value=\"div.ux-mooc-comment-course-comment_comment-list_item_body_user-info > span > div > div.star-point\")\n",
    "\n",
    "                # 空列表用来存储星星数量\n",
    "                star = []\n",
    "                for st in stars:\n",
    "                    star.append(len(st.find_elements(by=By.CSS_SELECTOR,value=\"i\")))\n",
    "                tp_dict['comments_stars'] = tp_dict['comments_stars'] + star\n",
    "\n",
    "                users_urls = [i.get_attribute(\"href\") for i in self.driver.find_elements(by=By.CSS_SELECTOR,value=\"div.ux-mooc-comment-course-comment_comment-list_item_body_user-info > a\")]\n",
    "                users_names = [i.text for i in self.driver.find_elements(by=By.CSS_SELECTOR,value=\"div.ux-mooc-comment-course-comment_comment-list_item_body_user-info > a\")]\n",
    "\n",
    "                tp_dict['user_url'] = tp_dict['user_url'] + users_urls\n",
    "                tp_dict['user_name'] = tp_dict['user_name'] + users_names\n",
    "\n",
    "                # 如果是最后一页,就停止,不用再点了\n",
    "                if i != quotient+1:\n",
    "                    # 如果还不是最后一页,就要点击下一页\n",
    "                    self.driver.find_element(by=By.CSS_SELECTOR,value=\"li.ux-pager_btn.ux-pager_btn__next > a\").click()\n",
    "            return pd.DataFrame(tp_dict),tp_dict\n",
    "            # pd.DataFrame(tp_dict).to_excel(excel_name,index=False)\n",
    "            # self.close_page()\n",
    "\n",
    "\n",
    "    def extract_user_url(self):\n",
    "        # 这个类方法将会实现提取出不重复的user_id,并且写到一个excel文件中\n",
    "        all_course_comments_lst = [f\"全部课程_comments/{damn1}\" for damn1 in os.listdir('全部课程_comments') if damn1[-4:] == 'xlsx']\n",
    "        df_all = pd.DataFrame()\n",
    "        for item in all_course_comments_lst:\n",
    "            tp_df = pd.read_excel(item)\n",
    "            df_all = pd.concat([df_all,tp_df])\n",
    "\n",
    "        wow_df = df_all.loc[:,['user_url','user_name']].drop_duplicates()\n",
    "        wow_df.to_excel('用户信息v1.xlsx',index=False)\n",
    "\n",
    "\n",
    "    def generate_user_info_excel(self):\n",
    "        # 这个类方法将会在上面输出的excel文件中不断进行写入\n",
    "        pass\n"
   ]
  },
  {
   "cell_type": "markdown",
   "metadata": {
    "pycharm": {
     "name": "#%% md\n"
    }
   },
   "source": [
    "###  处理第一种类型文件：200个选课_v3（下面这个我已经跑完了，不用再跑了）\n",
    "- 这里想要做的是在v2版本上加多一列课程简介\n",
    "- 后面有些需要重新人工进行爬取，后面会升级为200个选课_v4.xlsx"
   ]
  },
  {
   "cell_type": "code",
   "execution_count": 25,
   "metadata": {
    "pycharm": {
     "name": "#%%\n"
    }
   },
   "outputs": [
    {
     "ename": "NoSuchElementException",
     "evalue": "Message: no such element: Unable to locate element: {\"method\":\"xpath\",\"selector\":\"/html/body/div[2]/div[2]/div[2]/form/div/div[2]/div[2]/input\"}\n  (Session info: chrome=103.0.5060.134)\nStacktrace:\n0   chromedriver                        0x0000000104b2dd14 chromedriver + 3792148\n1   chromedriver                        0x0000000104ac4828 chromedriver + 3360808\n2   chromedriver                        0x00000001047c50b8 chromedriver + 217272\n3   chromedriver                        0x00000001047f4e90 chromedriver + 413328\n4   chromedriver                        0x000000010481da60 chromedriver + 580192\n5   chromedriver                        0x00000001047ea318 chromedriver + 369432\n6   chromedriver                        0x0000000104b031e8 chromedriver + 3617256\n7   chromedriver                        0x0000000104b07678 chromedriver + 3634808\n8   chromedriver                        0x0000000104b0bc6c chromedriver + 3652716\n9   chromedriver                        0x0000000104b08110 chromedriver + 3637520\n10  chromedriver                        0x0000000104ae67ac chromedriver + 3499948\n11  chromedriver                        0x0000000104b1fbf0 chromedriver + 3734512\n12  chromedriver                        0x0000000104b1fd54 chromedriver + 3734868\n13  chromedriver                        0x0000000104b34558 chromedriver + 3818840\n14  libsystem_pthread.dylib             0x0000000194f6026c _pthread_start + 148\n15  libsystem_pthread.dylib             0x0000000194f5b08c thread_start + 8\n",
     "output_type": "error",
     "traceback": [
      "\u001B[0;31m---------------------------------------------------------------------------\u001B[0m",
      "\u001B[0;31mNoSuchElementException\u001B[0m                    Traceback (most recent call last)",
      "Input \u001B[0;32mIn [25]\u001B[0m, in \u001B[0;36m<cell line: 3>\u001B[0;34m()\u001B[0m\n\u001B[1;32m      1\u001B[0m \u001B[38;5;66;03m# 创建实例对象\u001B[39;00m\n\u001B[1;32m      2\u001B[0m my_collector \u001B[38;5;241m=\u001B[39m Data_collector(\u001B[38;5;124m'\u001B[39m\u001B[38;5;124m200个选课_V2.xlsx\u001B[39m\u001B[38;5;124m'\u001B[39m)\n\u001B[0;32m----> 3\u001B[0m \u001B[43mmy_collector\u001B[49m\u001B[38;5;241;43m.\u001B[39;49m\u001B[43mlogin\u001B[49m\u001B[43m(\u001B[49m\u001B[43m)\u001B[49m\n\u001B[1;32m      4\u001B[0m my_collector\u001B[38;5;241m.\u001B[39mgenerate_v3()\n",
      "Input \u001B[0;32mIn [24]\u001B[0m, in \u001B[0;36mData_collector.login\u001B[0;34m(self)\u001B[0m\n\u001B[1;32m     58\u001B[0m \u001B[38;5;28mself\u001B[39m\u001B[38;5;241m.\u001B[39mdriver\u001B[38;5;241m.\u001B[39mswitch_to\u001B[38;5;241m.\u001B[39mframe(\u001B[38;5;28mself\u001B[39m\u001B[38;5;241m.\u001B[39mdriver\u001B[38;5;241m.\u001B[39mfind_element(by\u001B[38;5;241m=\u001B[39mBy\u001B[38;5;241m.\u001B[39mCSS_SELECTOR,value\u001B[38;5;241m=\u001B[39m\u001B[38;5;124m\"\u001B[39m\u001B[38;5;124mdiv.ux-login-urs-phone-wrap.f-pr > div > iframe\u001B[39m\u001B[38;5;124m\"\u001B[39m))\n\u001B[1;32m     60\u001B[0m \u001B[38;5;66;03m# 输入账号\u001B[39;00m\n\u001B[0;32m---> 61\u001B[0m \u001B[38;5;28;43mself\u001B[39;49m\u001B[38;5;241;43m.\u001B[39;49m\u001B[43mdriver\u001B[49m\u001B[38;5;241;43m.\u001B[39;49m\u001B[43mfind_element\u001B[49m\u001B[43m(\u001B[49m\u001B[43mby\u001B[49m\u001B[38;5;241;43m=\u001B[39;49m\u001B[43mBy\u001B[49m\u001B[38;5;241;43m.\u001B[39;49m\u001B[43mXPATH\u001B[49m\u001B[43m,\u001B[49m\u001B[43mvalue\u001B[49m\u001B[38;5;241;43m=\u001B[39;49m\u001B[38;5;124;43m\"\u001B[39;49m\u001B[38;5;124;43m/html/body/div[2]/div[2]/div[2]/form/div/div[2]/div[2]/input\u001B[39;49m\u001B[38;5;124;43m\"\u001B[39;49m\u001B[43m)\u001B[49m\u001B[38;5;241m.\u001B[39mclear()\n\u001B[1;32m     62\u001B[0m \u001B[38;5;28mself\u001B[39m\u001B[38;5;241m.\u001B[39mdriver\u001B[38;5;241m.\u001B[39mfind_element(by\u001B[38;5;241m=\u001B[39mBy\u001B[38;5;241m.\u001B[39mXPATH,value\u001B[38;5;241m=\u001B[39m\u001B[38;5;124m\"\u001B[39m\u001B[38;5;124m/html/body/div[2]/div[2]/div[2]/form/div/div[2]/div[2]/input\u001B[39m\u001B[38;5;124m\"\u001B[39m)\u001B[38;5;241m.\u001B[39msend_keys(person[\u001B[38;5;124m\"\u001B[39m\u001B[38;5;124maccount\u001B[39m\u001B[38;5;124m\"\u001B[39m])\n\u001B[1;32m     63\u001B[0m \u001B[38;5;66;03m# 输入密码\u001B[39;00m\n",
      "File \u001B[0;32m~/pycharm/venv/lib/python3.8/site-packages/selenium/webdriver/remote/webdriver.py:857\u001B[0m, in \u001B[0;36mWebDriver.find_element\u001B[0;34m(self, by, value)\u001B[0m\n\u001B[1;32m    854\u001B[0m     by \u001B[38;5;241m=\u001B[39m By\u001B[38;5;241m.\u001B[39mCSS_SELECTOR\n\u001B[1;32m    855\u001B[0m     value \u001B[38;5;241m=\u001B[39m \u001B[38;5;124m'\u001B[39m\u001B[38;5;124m[name=\u001B[39m\u001B[38;5;124m\"\u001B[39m\u001B[38;5;132;01m%s\u001B[39;00m\u001B[38;5;124m\"\u001B[39m\u001B[38;5;124m]\u001B[39m\u001B[38;5;124m'\u001B[39m \u001B[38;5;241m%\u001B[39m value\n\u001B[0;32m--> 857\u001B[0m \u001B[38;5;28;01mreturn\u001B[39;00m \u001B[38;5;28;43mself\u001B[39;49m\u001B[38;5;241;43m.\u001B[39;49m\u001B[43mexecute\u001B[49m\u001B[43m(\u001B[49m\u001B[43mCommand\u001B[49m\u001B[38;5;241;43m.\u001B[39;49m\u001B[43mFIND_ELEMENT\u001B[49m\u001B[43m,\u001B[49m\u001B[43m \u001B[49m\u001B[43m{\u001B[49m\n\u001B[1;32m    858\u001B[0m \u001B[43m    \u001B[49m\u001B[38;5;124;43m'\u001B[39;49m\u001B[38;5;124;43musing\u001B[39;49m\u001B[38;5;124;43m'\u001B[39;49m\u001B[43m:\u001B[49m\u001B[43m \u001B[49m\u001B[43mby\u001B[49m\u001B[43m,\u001B[49m\n\u001B[1;32m    859\u001B[0m \u001B[43m    \u001B[49m\u001B[38;5;124;43m'\u001B[39;49m\u001B[38;5;124;43mvalue\u001B[39;49m\u001B[38;5;124;43m'\u001B[39;49m\u001B[43m:\u001B[49m\u001B[43m \u001B[49m\u001B[43mvalue\u001B[49m\u001B[43m}\u001B[49m\u001B[43m)\u001B[49m[\u001B[38;5;124m'\u001B[39m\u001B[38;5;124mvalue\u001B[39m\u001B[38;5;124m'\u001B[39m]\n",
      "File \u001B[0;32m~/pycharm/venv/lib/python3.8/site-packages/selenium/webdriver/remote/webdriver.py:435\u001B[0m, in \u001B[0;36mWebDriver.execute\u001B[0;34m(self, driver_command, params)\u001B[0m\n\u001B[1;32m    433\u001B[0m response \u001B[38;5;241m=\u001B[39m \u001B[38;5;28mself\u001B[39m\u001B[38;5;241m.\u001B[39mcommand_executor\u001B[38;5;241m.\u001B[39mexecute(driver_command, params)\n\u001B[1;32m    434\u001B[0m \u001B[38;5;28;01mif\u001B[39;00m response:\n\u001B[0;32m--> 435\u001B[0m     \u001B[38;5;28;43mself\u001B[39;49m\u001B[38;5;241;43m.\u001B[39;49m\u001B[43merror_handler\u001B[49m\u001B[38;5;241;43m.\u001B[39;49m\u001B[43mcheck_response\u001B[49m\u001B[43m(\u001B[49m\u001B[43mresponse\u001B[49m\u001B[43m)\u001B[49m\n\u001B[1;32m    436\u001B[0m     response[\u001B[38;5;124m'\u001B[39m\u001B[38;5;124mvalue\u001B[39m\u001B[38;5;124m'\u001B[39m] \u001B[38;5;241m=\u001B[39m \u001B[38;5;28mself\u001B[39m\u001B[38;5;241m.\u001B[39m_unwrap_value(\n\u001B[1;32m    437\u001B[0m         response\u001B[38;5;241m.\u001B[39mget(\u001B[38;5;124m'\u001B[39m\u001B[38;5;124mvalue\u001B[39m\u001B[38;5;124m'\u001B[39m, \u001B[38;5;28;01mNone\u001B[39;00m))\n\u001B[1;32m    438\u001B[0m     \u001B[38;5;28;01mreturn\u001B[39;00m response\n",
      "File \u001B[0;32m~/pycharm/venv/lib/python3.8/site-packages/selenium/webdriver/remote/errorhandler.py:247\u001B[0m, in \u001B[0;36mErrorHandler.check_response\u001B[0;34m(self, response)\u001B[0m\n\u001B[1;32m    245\u001B[0m         alert_text \u001B[38;5;241m=\u001B[39m value[\u001B[38;5;124m'\u001B[39m\u001B[38;5;124malert\u001B[39m\u001B[38;5;124m'\u001B[39m]\u001B[38;5;241m.\u001B[39mget(\u001B[38;5;124m'\u001B[39m\u001B[38;5;124mtext\u001B[39m\u001B[38;5;124m'\u001B[39m)\n\u001B[1;32m    246\u001B[0m     \u001B[38;5;28;01mraise\u001B[39;00m exception_class(message, screen, stacktrace, alert_text)  \u001B[38;5;66;03m# type: ignore[call-arg]  # mypy is not smart enough here\u001B[39;00m\n\u001B[0;32m--> 247\u001B[0m \u001B[38;5;28;01mraise\u001B[39;00m exception_class(message, screen, stacktrace)\n",
      "\u001B[0;31mNoSuchElementException\u001B[0m: Message: no such element: Unable to locate element: {\"method\":\"xpath\",\"selector\":\"/html/body/div[2]/div[2]/div[2]/form/div/div[2]/div[2]/input\"}\n  (Session info: chrome=103.0.5060.134)\nStacktrace:\n0   chromedriver                        0x0000000104b2dd14 chromedriver + 3792148\n1   chromedriver                        0x0000000104ac4828 chromedriver + 3360808\n2   chromedriver                        0x00000001047c50b8 chromedriver + 217272\n3   chromedriver                        0x00000001047f4e90 chromedriver + 413328\n4   chromedriver                        0x000000010481da60 chromedriver + 580192\n5   chromedriver                        0x00000001047ea318 chromedriver + 369432\n6   chromedriver                        0x0000000104b031e8 chromedriver + 3617256\n7   chromedriver                        0x0000000104b07678 chromedriver + 3634808\n8   chromedriver                        0x0000000104b0bc6c chromedriver + 3652716\n9   chromedriver                        0x0000000104b08110 chromedriver + 3637520\n10  chromedriver                        0x0000000104ae67ac chromedriver + 3499948\n11  chromedriver                        0x0000000104b1fbf0 chromedriver + 3734512\n12  chromedriver                        0x0000000104b1fd54 chromedriver + 3734868\n13  chromedriver                        0x0000000104b34558 chromedriver + 3818840\n14  libsystem_pthread.dylib             0x0000000194f6026c _pthread_start + 148\n15  libsystem_pthread.dylib             0x0000000194f5b08c thread_start + 8\n"
     ]
    }
   ],
   "source": [
    "# 创建实例对象\n",
    "my_collector = Data_collector('200个选课_V2.xlsx')\n",
    "my_collector.login()\n",
    "my_collector.generate_v3()"
   ]
  },
  {
   "cell_type": "markdown",
   "metadata": {
    "pycharm": {
     "name": "#%% md\n"
    }
   },
   "source": [
    "### 处理第二种类型的文件：每一个课程会输出一个excel文件"
   ]
  },
  {
   "cell_type": "code",
   "execution_count": 6,
   "outputs": [
    {
     "name": "stdout",
     "output_type": "stream",
     "text": [
      "['走进创业(南京大学-王自强/陶向南)']\n"
     ]
    }
   ],
   "source": [
    "my_collector = Data_collector('200个选课_V4.xlsx')\n",
    "my_collector.login()\n",
    "# start 表示的是起始的index end是终止的index\n",
    "# 1,1 表示第一个课 i,i 表示第i个课 1,2表示第一和第二个课\n",
    "df, dict1 = my_collector.scrapy_comments_and_user_name(157,157)"
   ],
   "metadata": {
    "collapsed": false,
    "pycharm": {
     "name": "#%%\n"
    }
   }
  },
  {
   "cell_type": "code",
   "execution_count": 8,
   "outputs": [],
   "source": [
    "df.to_csv('走进创业(南京大学-王自强陶向南).csv',index=False)"
   ],
   "metadata": {
    "collapsed": false,
    "pycharm": {
     "name": "#%%\n"
    }
   }
  },
  {
   "cell_type": "code",
   "execution_count": 12,
   "outputs": [],
   "source": [
    "df.to_csv('Python语言程序设计(北京理工大学-嵩天).csv',index=False)"
   ],
   "metadata": {
    "collapsed": false,
    "pycharm": {
     "name": "#%%\n"
    }
   }
  },
  {
   "cell_type": "code",
   "execution_count": 15,
   "outputs": [
    {
     "data": {
      "text/plain": "200"
     },
     "execution_count": 15,
     "metadata": {},
     "output_type": "execute_result"
    }
   ],
   "source": [
    "my_collector.new_names[189]\n",
    "all_course_comments_lst = [f\"全部课程_comments/{damn1}\" for damn1 in os.listdir('全部课程_comments') if damn1[-4:] == 'xlsx' or damn1[-3:] == 'csv']\n",
    "len(all_course_comments_lst)"
   ],
   "metadata": {
    "collapsed": false,
    "pycharm": {
     "name": "#%%\n"
    }
   }
  },
  {
   "cell_type": "code",
   "execution_count": 4,
   "outputs": [],
   "source": [
    "all_course_comments_lst = [f\"全部课程_comments/{damn1}\" for damn1 in os.listdir('全部课程_comments') if damn1[-4:] == 'xlsx' or damn1[-3:] == 'csv']\n",
    "df_all = pd.DataFrame()\n",
    "for item in all_course_comments_lst:\n",
    "    if item[-4:] == 'xlsx':\n",
    "        tp_df = pd.read_excel(item)\n",
    "    elif item[-3:] == 'csv':\n",
    "        tp_df = pd.read_csv(item)\n",
    "    df_all = pd.concat([df_all,tp_df])"
   ],
   "metadata": {
    "collapsed": false,
    "pycharm": {
     "name": "#%%\n"
    }
   }
  },
  {
   "cell_type": "code",
   "execution_count": 5,
   "outputs": [],
   "source": [
    "small_df = df_all.loc[:,['user_url','user_name']].drop_duplicates()"
   ],
   "metadata": {
    "collapsed": false,
    "pycharm": {
     "name": "#%%\n"
    }
   }
  },
  {
   "cell_type": "code",
   "execution_count": 6,
   "outputs": [
    {
     "data": {
      "text/plain": "                                              user_url          user_name\n0    https://www.icourse163.org/home.htm?userId=138...  GreatMarketLeader\n1    https://www.icourse163.org/home.htm?userId=115...            杨立宇mooc\n2    https://www.icourse163.org/home.htm?userId=103...                 席颜\n3    https://www.icourse163.org/home.htm?userId=101...         Full_stack\n4    https://www.icourse163.org/home.htm?userId=103...           今天美拉学习了吗\n..                                                 ...                ...\n114  https://www.icourse163.org/home.htm?userId=139...         神经蛙mooc243\n115  https://www.icourse163.org/home.htm?userId=139...            爱吃肉的小棉袄\n116  https://www.icourse163.org/home.htm?userId=139...         小朋友mooc495\n117  https://www.icourse163.org/home.htm?userId=139...          DXmooc149\n118  https://www.icourse163.org/home.htm?userId=139...                陈既然\n\n[159603 rows x 2 columns]",
      "text/html": "<div>\n<style scoped>\n    .dataframe tbody tr th:only-of-type {\n        vertical-align: middle;\n    }\n\n    .dataframe tbody tr th {\n        vertical-align: top;\n    }\n\n    .dataframe thead th {\n        text-align: right;\n    }\n</style>\n<table border=\"1\" class=\"dataframe\">\n  <thead>\n    <tr style=\"text-align: right;\">\n      <th></th>\n      <th>user_url</th>\n      <th>user_name</th>\n    </tr>\n  </thead>\n  <tbody>\n    <tr>\n      <th>0</th>\n      <td>https://www.icourse163.org/home.htm?userId=138...</td>\n      <td>GreatMarketLeader</td>\n    </tr>\n    <tr>\n      <th>1</th>\n      <td>https://www.icourse163.org/home.htm?userId=115...</td>\n      <td>杨立宇mooc</td>\n    </tr>\n    <tr>\n      <th>2</th>\n      <td>https://www.icourse163.org/home.htm?userId=103...</td>\n      <td>席颜</td>\n    </tr>\n    <tr>\n      <th>3</th>\n      <td>https://www.icourse163.org/home.htm?userId=101...</td>\n      <td>Full_stack</td>\n    </tr>\n    <tr>\n      <th>4</th>\n      <td>https://www.icourse163.org/home.htm?userId=103...</td>\n      <td>今天美拉学习了吗</td>\n    </tr>\n    <tr>\n      <th>...</th>\n      <td>...</td>\n      <td>...</td>\n    </tr>\n    <tr>\n      <th>114</th>\n      <td>https://www.icourse163.org/home.htm?userId=139...</td>\n      <td>神经蛙mooc243</td>\n    </tr>\n    <tr>\n      <th>115</th>\n      <td>https://www.icourse163.org/home.htm?userId=139...</td>\n      <td>爱吃肉的小棉袄</td>\n    </tr>\n    <tr>\n      <th>116</th>\n      <td>https://www.icourse163.org/home.htm?userId=139...</td>\n      <td>小朋友mooc495</td>\n    </tr>\n    <tr>\n      <th>117</th>\n      <td>https://www.icourse163.org/home.htm?userId=139...</td>\n      <td>DXmooc149</td>\n    </tr>\n    <tr>\n      <th>118</th>\n      <td>https://www.icourse163.org/home.htm?userId=139...</td>\n      <td>陈既然</td>\n    </tr>\n  </tbody>\n</table>\n<p>159603 rows × 2 columns</p>\n</div>"
     },
     "execution_count": 6,
     "metadata": {},
     "output_type": "execute_result"
    }
   ],
   "source": [
    "small_df"
   ],
   "metadata": {
    "collapsed": false,
    "pycharm": {
     "name": "#%%\n"
    }
   }
  },
  {
   "cell_type": "code",
   "execution_count": 7,
   "outputs": [],
   "source": [
    "small_df.to_csv('all_users_info_pre.csv',index = False)"
   ],
   "metadata": {
    "collapsed": false,
    "pycharm": {
     "name": "#%%\n"
    }
   }
  },
  {
   "cell_type": "code",
   "execution_count": 12,
   "outputs": [
    {
     "data": {
      "text/plain": "'https://www.icourse163.org/home.htm?userId=1385226274'"
     },
     "execution_count": 12,
     "metadata": {},
     "output_type": "execute_result"
    }
   ],
   "source": [
    "small_df.iloc[0,:]['user_url']"
   ],
   "metadata": {
    "collapsed": false,
    "pycharm": {
     "name": "#%%\n"
    }
   }
  },
  {
   "cell_type": "code",
   "execution_count": 26,
   "outputs": [],
   "source": [
    "class Damn():\n",
    "    def __init__(self,excel_name):\n",
    "        # 这个类有四个属性，第一个属性为user_info_df,第二个属性为tag的位置,第三个属性为所有用户的数量，第四个属性为driver\n",
    "        self.user_info_df = pd.read_csv(excel_name)\n",
    "        self.tag = 0\n",
    "        self.all_members_num = self.user_info_df.shape[0]\n",
    "        self.driver = webdriver.Chrome()\n",
    "\n",
    "        self.driver.maximize_window()\n",
    "\n",
    "    def create_txt_file(self):\n",
    "        with open('users_info.txt','a+',encoding='utf-8') as f:\n",
    "            f.write(\"{}\\t{}\\t{}\\t{}\\t{}\\t{}\\t{}\\t{}\\t{}\\t{}\\t{}\\t{}\\t{}\\r\".format(\"user_name\",\"user_url\",\"enrolled_courses_num\",\"enrolled_courses\",\"follow_num\",\"fans_num\",\"theme_n_reply\",\"thumbs_up\",\"studying_minute\",\"certificate_of_excellence_num\",\"certificate_of_excellence\",\"certificate_of_competency_num\",\"certificate_of_competency\"))\n",
    "\n",
    "    def close_page(self):\n",
    "        # 实现页面关闭\n",
    "        self.driver.close()\n",
    "        # 并且切换页面\n",
    "        self.driver.switch_to.window(self.driver.window_handles[-1])\n",
    "\n",
    "    def to_user_page(self,user_url):\n",
    "        # 在新窗口打开\n",
    "        self.driver.execute_script(\"window.open('{}');\".format(user_url))\n",
    "        # 进行切换窗口\n",
    "        self.driver.switch_to.window(self.driver.window_handles[-1])\n",
    "\n",
    "    def parse(self):\n",
    "        # 首先我们先进入到历史记录的tag以及对应的dataframe\n",
    "        need_df = self.user_info_df.iloc[self.tag:,:]\n",
    "        user_urls = need_df['user_url'].tolist()\n",
    "        user_names = need_df['user_name'].tolist()\n",
    "\n",
    "        for user_url,user_name in zip(user_urls,user_names):\n",
    "            try:\n",
    "                # 先进入对应的url中\n",
    "                self.to_user_page(user_url)\n",
    "\n",
    "                # 下面将会寻找对应的元素\n",
    "                # 已修读课程数量\n",
    "                enrolled_courses_num = self.driver.find_element(by=By.CSS_SELECTOR, value=\"#j-module-tab > div > div > a > span > i\").text\n",
    "                if len(enrolled_courses_num) == 0:\n",
    "                    enrolled_courses_num = 0\n",
    "                    enrolled_courses = []\n",
    "                else:\n",
    "                    # 已修读课程名称（其实没有必要全部取出，至多取出第一页即可）\n",
    "                    enrolled_courses = \", \".join([i.text for i in self.driver.find_elements(by=By.CSS_SELECTOR, value=\"#j-coursewrap > div > div.u-cc-courseFunc.f-cb > div > div > a > div.u-cc-courseFunc_div32 > span\")])\n",
    "\n",
    "\n",
    "                # 关注人数\n",
    "                follow_num = self.driver.find_element(by=By.CSS_SELECTOR, value=\"#j-self-content > div > div.u-ui-f2f > span > span:nth-child(1)\").text[2:-1]\n",
    "\n",
    "                # 粉丝量\n",
    "                fans_num = self.driver.find_element(by=By.CSS_SELECTOR, value=\"#j-self-content > div > div.u-ui-f2f > span > span:nth-child(2)\").text[2:-1]\n",
    "\n",
    "                # 主题/回复\n",
    "                theme_n_reply = self.driver.find_element(by=By.CSS_SELECTOR, value=\"#j-self-content > div > div.u-ui-box.f-fr > div > div > div.u-ui-discuss-cont > span\").text\n",
    "\n",
    "                # 获赞数量\n",
    "                thumbs_up = self.driver.find_element(by=By.CSS_SELECTOR, value=\"#j-self-content > div > div.u-ui-box.f-fr > div > div > div.u-ui-zan-cnt > span\").text\n",
    "\n",
    "                # 学习时长\n",
    "                studying_duration = self.driver.find_element(by=By.CSS_SELECTOR, value=\"#j-self-content > div > div.u-ui-box.f-fr > div > div > div.u-ui-time-cont > span\").text\n",
    "                if \"时\" in studying_duration:\n",
    "                    ch1 = studying_duration.index(\"时\")\n",
    "                    # 转换成分钟\n",
    "                    studying_minute = int(studying_duration[:ch1])*60 + int(studying_duration[ch1+1:-1])\n",
    "                else:\n",
    "                    studying_minute = int(studying_duration[:-1])\n",
    "\n",
    "                # 优秀证书\n",
    "                self.driver.get(\"{}{}{}{}\".format(user_url[:-6],\"mycert?\",user_url.split(\"?\")[1][:-13],\"&type=1&p=1\"))\n",
    "                time.sleep(1)\n",
    "                certificate_of_excellence = [i.text for i in self.driver.find_elements(by=By.CSS_SELECTOR, value=\"div.u-certCard-courseFunc_card_title.f-thide\")]\n",
    "\n",
    "                # 合格证书\n",
    "                self.driver.get(\"{}{}{}{}\".format(user_url[:-6],\"mycert?\",user_url.split(\"?\")[1][:-13],\"&type=2&p=1\"))\n",
    "                time.sleep(1)\n",
    "                certificate_of_competency = [i.text for i in self.driver.find_elements(by=By.CSS_SELECTOR, value=\"div.u-certCard-courseFunc_card_title.f-thide\")]\n",
    "\n",
    "                # 上面表示的是已经提取到对应的信息了，下面将提取到的东西写到文件中\n",
    "                want_to_write = \"{}\\t{}\\t{}\\t{}\\t{}\\t{}\\t{}\\t{}\\t{}\\t{}\\t{}\\t{}\\t{}\\r\".format(user_name,user_url,int(enrolled_courses_num),\", \".join(enrolled_courses),int(follow_num),int(fans_num),int(theme_n_reply),int(thumbs_up),studying_minute,len(certificate_of_excellence),\", \".join(certificate_of_excellence),len(certificate_of_competency),\", \".join(certificate_of_competency))\n",
    "\n",
    "                with open('users_info.txt','a+',mode='utf-8') as f:\n",
    "                    f.write(want_to_write)\n",
    "\n",
    "                self.tag += 1 # 记录已经写到哪里了\n",
    "                self.close_page()\n",
    "            except:\n",
    "                self.close_page()\n",
    "                break\n",
    "\n"
   ],
   "metadata": {
    "collapsed": false,
    "pycharm": {
     "name": "#%%\n"
    }
   }
  },
  {
   "cell_type": "code",
   "execution_count": 27,
   "outputs": [],
   "source": [
    "bianqiang = Damn(\"all_users_info_pre.csv\")"
   ],
   "metadata": {
    "collapsed": false,
    "pycharm": {
     "name": "#%%\n"
    }
   }
  },
  {
   "cell_type": "code",
   "execution_count": 29,
   "outputs": [],
   "source": [
    "# 首先先创建一个新的文件存储\n",
    "bianqiang.create_txt_file()"
   ],
   "metadata": {
    "collapsed": false,
    "pycharm": {
     "name": "#%%\n"
    }
   }
  },
  {
   "cell_type": "code",
   "execution_count": 32,
   "outputs": [],
   "source": [
    "bianqiang.parse()"
   ],
   "metadata": {
    "collapsed": false,
    "pycharm": {
     "name": "#%%\n"
    }
   }
  },
  {
   "cell_type": "code",
   "execution_count": 25,
   "outputs": [
    {
     "data": {
      "text/plain": "0"
     },
     "execution_count": 25,
     "metadata": {},
     "output_type": "execute_result"
    }
   ],
   "source": [
    "bianqiang.tag"
   ],
   "metadata": {
    "collapsed": false,
    "pycharm": {
     "name": "#%%\n"
    }
   }
  },
  {
   "cell_type": "code",
   "execution_count": 33,
   "outputs": [],
   "source": [
    "os.remove('users_info.txt')"
   ],
   "metadata": {
    "collapsed": false,
    "pycharm": {
     "name": "#%%\n"
    }
   }
  },
  {
   "cell_type": "code",
   "execution_count": null,
   "outputs": [],
   "source": [],
   "metadata": {
    "collapsed": false,
    "pycharm": {
     "name": "#%%\n"
    }
   }
  }
 ],
 "metadata": {
  "kernelspec": {
   "display_name": "Python 3 (ipykernel)",
   "language": "python",
   "name": "python3"
  },
  "language_info": {
   "codemirror_mode": {
    "name": "ipython",
    "version": 3
   },
   "file_extension": ".py",
   "mimetype": "text/x-python",
   "name": "python",
   "nbconvert_exporter": "python",
   "pygments_lexer": "ipython3",
   "version": "3.9.7"
  },
  "toc": {
   "base_numbering": 1,
   "nav_menu": {},
   "number_sections": true,
   "sideBar": true,
   "skip_h1_title": false,
   "title_cell": "Table of Contents",
   "title_sidebar": "Contents",
   "toc_cell": false,
   "toc_position": {},
   "toc_section_display": true,
   "toc_window_display": false
  },
  "varInspector": {
   "cols": {
    "lenName": 16,
    "lenType": 16,
    "lenVar": 40
   },
   "kernels_config": {
    "python": {
     "delete_cmd_postfix": "",
     "delete_cmd_prefix": "del ",
     "library": "var_list.py",
     "varRefreshCmd": "print(var_dic_list())"
    },
    "r": {
     "delete_cmd_postfix": ") ",
     "delete_cmd_prefix": "rm(",
     "library": "var_list.r",
     "varRefreshCmd": "cat(var_dic_list()) "
    }
   },
   "types_to_exclude": [
    "module",
    "function",
    "builtin_function_or_method",
    "instance",
    "_Feature"
   ],
   "window_display": false
  },
  "vscode": {
   "interpreter": {
    "hash": "88279d2366fe020547cde40dd65aa0e3aa662a6ec1f3ca12d88834876c85e1a6"
   }
  }
 },
 "nbformat": 4,
 "nbformat_minor": 1
}