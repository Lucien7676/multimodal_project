{
 "cells": [
  {
   "cell_type": "markdown",
   "source": [
    "# 用户信息获取"
   ],
   "metadata": {
    "collapsed": false,
    "pycharm": {
     "name": "#%% md\n"
    }
   }
  },
  {
   "cell_type": "code",
   "execution_count": 1,
   "outputs": [],
   "source": [
    "# 导入相关的库\n",
    "import os\n",
    "import time\n",
    "import emoji\n",
    "import pandas as pd\n",
    "from selenium import webdriver\n",
    "from selenium.webdriver.common.by import By\n",
    "import re\n",
    "from selenium.webdriver.chrome.options import Options"
   ],
   "metadata": {
    "collapsed": false,
    "pycharm": {
     "name": "#%%\n"
    }
   }
  },
  {
   "cell_type": "code",
   "execution_count": 2,
   "outputs": [],
   "source": [
    "# 首先先进行读取当前路径下的文件\n",
    "users_df = pd.read_csv('all_users_info_pre.csv')"
   ],
   "metadata": {
    "collapsed": false,
    "pycharm": {
     "name": "#%%\n"
    }
   }
  },
  {
   "cell_type": "code",
   "execution_count": 3,
   "outputs": [
    {
     "data": {
      "text/plain": "                                             user_url              user_name\n0   https://www.icourse163.org/home.htm?userId=138...      GreatMarketLeader\n1   https://www.icourse163.org/home.htm?userId=115...                杨立宇mooc\n2   https://www.icourse163.org/home.htm?userId=103...                     席颜\n3   https://www.icourse163.org/home.htm?userId=101...             Full_stack\n4   https://www.icourse163.org/home.htm?userId=103...               今天美拉学习了吗\n5   https://www.icourse163.org/home.htm?userId=111...               aiao1995\n6   https://www.icourse163.org/home.htm?userId=101...                 顾晨mooc\n7   https://www.icourse163.org/home.htm?userId=138...                    王海军\n8   https://www.icourse163.org/home.htm?userId=114...              Gravemeow\n9   https://www.icourse163.org/home.htm?userId=138...                  小儿不识月\n10  https://www.icourse163.org/home.htm?userId=103...                  ranse\n11  https://www.icourse163.org/home.htm?userId=114...                   冰川06\n12  https://www.icourse163.org/home.htm?userId=139...  mooc90108986819935307\n13  https://www.icourse163.org/home.htm?userId=128...                 汉风mooc\n14  https://www.icourse163.org/home.htm?userId=114...                     徐海",
      "text/html": "<div>\n<style scoped>\n    .dataframe tbody tr th:only-of-type {\n        vertical-align: middle;\n    }\n\n    .dataframe tbody tr th {\n        vertical-align: top;\n    }\n\n    .dataframe thead th {\n        text-align: right;\n    }\n</style>\n<table border=\"1\" class=\"dataframe\">\n  <thead>\n    <tr style=\"text-align: right;\">\n      <th></th>\n      <th>user_url</th>\n      <th>user_name</th>\n    </tr>\n  </thead>\n  <tbody>\n    <tr>\n      <th>0</th>\n      <td>https://www.icourse163.org/home.htm?userId=138...</td>\n      <td>GreatMarketLeader</td>\n    </tr>\n    <tr>\n      <th>1</th>\n      <td>https://www.icourse163.org/home.htm?userId=115...</td>\n      <td>杨立宇mooc</td>\n    </tr>\n    <tr>\n      <th>2</th>\n      <td>https://www.icourse163.org/home.htm?userId=103...</td>\n      <td>席颜</td>\n    </tr>\n    <tr>\n      <th>3</th>\n      <td>https://www.icourse163.org/home.htm?userId=101...</td>\n      <td>Full_stack</td>\n    </tr>\n    <tr>\n      <th>4</th>\n      <td>https://www.icourse163.org/home.htm?userId=103...</td>\n      <td>今天美拉学习了吗</td>\n    </tr>\n    <tr>\n      <th>5</th>\n      <td>https://www.icourse163.org/home.htm?userId=111...</td>\n      <td>aiao1995</td>\n    </tr>\n    <tr>\n      <th>6</th>\n      <td>https://www.icourse163.org/home.htm?userId=101...</td>\n      <td>顾晨mooc</td>\n    </tr>\n    <tr>\n      <th>7</th>\n      <td>https://www.icourse163.org/home.htm?userId=138...</td>\n      <td>王海军</td>\n    </tr>\n    <tr>\n      <th>8</th>\n      <td>https://www.icourse163.org/home.htm?userId=114...</td>\n      <td>Gravemeow</td>\n    </tr>\n    <tr>\n      <th>9</th>\n      <td>https://www.icourse163.org/home.htm?userId=138...</td>\n      <td>小儿不识月</td>\n    </tr>\n    <tr>\n      <th>10</th>\n      <td>https://www.icourse163.org/home.htm?userId=103...</td>\n      <td>ranse</td>\n    </tr>\n    <tr>\n      <th>11</th>\n      <td>https://www.icourse163.org/home.htm?userId=114...</td>\n      <td>冰川06</td>\n    </tr>\n    <tr>\n      <th>12</th>\n      <td>https://www.icourse163.org/home.htm?userId=139...</td>\n      <td>mooc90108986819935307</td>\n    </tr>\n    <tr>\n      <th>13</th>\n      <td>https://www.icourse163.org/home.htm?userId=128...</td>\n      <td>汉风mooc</td>\n    </tr>\n    <tr>\n      <th>14</th>\n      <td>https://www.icourse163.org/home.htm?userId=114...</td>\n      <td>徐海</td>\n    </tr>\n  </tbody>\n</table>\n</div>"
     },
     "execution_count": 3,
     "metadata": {},
     "output_type": "execute_result"
    }
   ],
   "source": [
    "users_df.head(15)"
   ],
   "metadata": {
    "collapsed": false,
    "pycharm": {
     "name": "#%%\n"
    }
   }
  },
  {
   "cell_type": "markdown",
   "source": [
    "## 这里是在当前路径下创建一个txt文件\n",
    "- 如果当前路径下有这个文件了，他就不会再创建了，防止不小心跑到这个代码框的情况"
   ],
   "metadata": {
    "collapsed": false,
    "pycharm": {
     "name": "#%% md\n"
    }
   }
  },
  {
   "cell_type": "code",
   "execution_count": 4,
   "outputs": [],
   "source": [
    "# 创建文件\n",
    "if not os.path.exists('users_info5.txt'):\n",
    "    with open('users_info5.txt','a+',encoding='utf-8') as f:\n",
    "        f.write(\"{}\\t{}\\t{}\\t{}\\t{}\\t{}\\t{}\\t{}\\t{}\\t{}\\r\".format(\"user_name\",\"user_url\",\"enrolled_courses_num\",\"follow_num\",\"fans_num\",\"theme_n_reply\",\"thumbs_up\",\"studying_minute\",\"certificate_of_excellence_num\",\"certificate_of_competency_num\"))"
   ],
   "metadata": {
    "collapsed": false,
    "pycharm": {
     "name": "#%%\n"
    }
   }
  },
  {
   "cell_type": "code",
   "execution_count": 5,
   "outputs": [
    {
     "data": {
      "text/plain": "0"
     },
     "execution_count": 5,
     "metadata": {},
     "output_type": "execute_result"
    }
   ],
   "source": [
    "# 查看txt文件有几行\n",
    "len(pd.read_table('users_info5.txt')['user_url'].tolist())"
   ],
   "metadata": {
    "collapsed": false,
    "pycharm": {
     "name": "#%%\n"
    }
   }
  },
  {
   "cell_type": "markdown",
   "source": [
    "## 此处可以修改（如果第一次跑or每次都能跑完，就可以自己设定索引直接跑下面的代码）\n",
    "- 这里50000：70000表示的是第50001条到70000条，也就是$[50001,70001)$左闭右开的情况\n",
    "- 这里跑5000条大概需要一天10多个小时，可以5000 or 3000看情况跑，比如从50000开始跑3000条只需改成50000：53000即可，跑完修改的就是53000-56000"
   ],
   "metadata": {
    "collapsed": false,
    "pycharm": {
     "name": "#%% md\n"
    }
   }
  },
  {
   "cell_type": "code",
   "execution_count": 71,
   "outputs": [],
   "source": [
    "# 可以进行修改\n",
    "test_url_lst = users_df.iloc[115000:120000,:]['user_url'].tolist()\n",
    "test_name_lst = users_df.iloc[115000:120000,:]['user_name'].tolist()"
   ],
   "metadata": {
    "collapsed": false,
    "pycharm": {
     "name": "#%%\n"
    }
   }
  },
  {
   "cell_type": "markdown",
   "source": [
    "## 如果关了电脑，电脑的内存其实会清空，你不知道它跑到哪里，可以直接跑下面的代码，然后修改最终的区间，就不用跑上面那个手动修改的那个了(第一次跑的话就不要跑下面这两个代码框了，第一次跑必定会报错)"
   ],
   "metadata": {
    "collapsed": false,
    "pycharm": {
     "name": "#%% md\n"
    }
   }
  },
  {
   "cell_type": "code",
   "execution_count": 86,
   "outputs": [
    {
     "data": {
      "text/plain": "117569"
     },
     "execution_count": 86,
     "metadata": {},
     "output_type": "execute_result"
    }
   ],
   "source": [
    "# 首先先进行读取当前路径下的文件pd.read_table('users_info_.txt',lineterminator='\\r')\n",
    "users_df = pd.read_csv('all_users_info_pre.csv')\n",
    "index_ = users_df['user_url'].tolist().index(pd.read_table('users_info_.txt',lineterminator='\\r').iloc[-1:,:]['user_url'].tolist()[0])\n",
    "index_"
   ],
   "metadata": {
    "collapsed": false,
    "pycharm": {
     "name": "#%%\n"
    }
   }
  },
  {
   "cell_type": "code",
   "execution_count": 91,
   "outputs": [],
   "source": [
    "test_url_lst = users_df.iloc[(index_+1):120000,:]['user_url'].tolist()\n",
    "test_name_lst = users_df.iloc[(index_+1):120000,:]['user_name'].tolist()"
   ],
   "metadata": {
    "collapsed": false,
    "pycharm": {
     "name": "#%%\n"
    }
   }
  },
  {
   "cell_type": "markdown",
   "source": [
    "## 跑用户信息的代码框"
   ],
   "metadata": {
    "collapsed": false,
    "pycharm": {
     "name": "#%% md\n"
    }
   }
  },
  {
   "cell_type": "code",
   "execution_count": 90,
   "outputs": [
    {
     "name": "stderr",
     "output_type": "stream",
     "text": [
      "/var/folders/6b/xp2m5pws089bz4bpfh9zpndc0000gn/T/ipykernel_67240/4033381788.py:10: DeprecationWarning: use options instead of chrome_options\n",
      "  driver = webdriver.Chrome(chrome_options=chrome_options)\n"
     ]
    },
    {
     "ename": "SessionNotCreatedException",
     "evalue": "Message: session not created: This version of ChromeDriver only supports Chrome version 103\nCurrent browser version is 105.0.5195.102 with binary path /Applications/Google Chrome.app/Contents/MacOS/Google Chrome\nStacktrace:\n0   chromedriver                        0x000000010455dd14 chromedriver + 3792148\n1   chromedriver                        0x00000001044f4828 chromedriver + 3360808\n2   chromedriver                        0x00000001041f50b8 chromedriver + 217272\n3   chromedriver                        0x0000000104217ce0 chromedriver + 359648\n4   chromedriver                        0x00000001042146b4 chromedriver + 345780\n5   chromedriver                        0x000000010421168c chromedriver + 333452\n6   chromedriver                        0x0000000104242074 chromedriver + 532596\n7   chromedriver                        0x000000010421a318 chromedriver + 369432\n8   chromedriver                        0x00000001045331e8 chromedriver + 3617256\n9   chromedriver                        0x0000000104537678 chromedriver + 3634808\n10  chromedriver                        0x000000010453bc6c chromedriver + 3652716\n11  chromedriver                        0x0000000104538110 chromedriver + 3637520\n12  chromedriver                        0x00000001045167ac chromedriver + 3499948\n13  chromedriver                        0x000000010454fbf0 chromedriver + 3734512\n14  chromedriver                        0x000000010454fd54 chromedriver + 3734868\n15  chromedriver                        0x0000000104564558 chromedriver + 3818840\n16  libsystem_pthread.dylib             0x00000001b0f2826c _pthread_start + 148\n17  libsystem_pthread.dylib             0x00000001b0f2308c thread_start + 8\n",
     "output_type": "error",
     "traceback": [
      "\u001B[0;31m---------------------------------------------------------------------------\u001B[0m",
      "\u001B[0;31mSessionNotCreatedException\u001B[0m                Traceback (most recent call last)",
      "Input \u001B[0;32mIn [90]\u001B[0m, in \u001B[0;36m<cell line: 10>\u001B[0;34m()\u001B[0m\n\u001B[1;32m      7\u001B[0m chrome_options\u001B[38;5;241m.\u001B[39madd_argument(\u001B[38;5;124m'\u001B[39m\u001B[38;5;124m--disable-gpu\u001B[39m\u001B[38;5;124m'\u001B[39m)\n\u001B[1;32m      9\u001B[0m \u001B[38;5;66;03m# 首先创建一个driver实例对象\u001B[39;00m\n\u001B[0;32m---> 10\u001B[0m driver \u001B[38;5;241m=\u001B[39m \u001B[43mwebdriver\u001B[49m\u001B[38;5;241;43m.\u001B[39;49m\u001B[43mChrome\u001B[49m\u001B[43m(\u001B[49m\u001B[43mchrome_options\u001B[49m\u001B[38;5;241;43m=\u001B[39;49m\u001B[43mchrome_options\u001B[49m\u001B[43m)\u001B[49m\n\u001B[1;32m     11\u001B[0m driver\u001B[38;5;241m.\u001B[39mmaximize_window()\n\u001B[1;32m     13\u001B[0m \u001B[38;5;66;03m# 避开 chrome 检测\u001B[39;00m\n",
      "File \u001B[0;32m~/pycharm/venv/lib/python3.8/site-packages/selenium/webdriver/chrome/webdriver.py:69\u001B[0m, in \u001B[0;36mWebDriver.__init__\u001B[0;34m(self, executable_path, port, options, service_args, desired_capabilities, service_log_path, chrome_options, service, keep_alive)\u001B[0m\n\u001B[1;32m     66\u001B[0m \u001B[38;5;28;01mif\u001B[39;00m \u001B[38;5;129;01mnot\u001B[39;00m service:\n\u001B[1;32m     67\u001B[0m     service \u001B[38;5;241m=\u001B[39m Service(executable_path, port, service_args, service_log_path)\n\u001B[0;32m---> 69\u001B[0m \u001B[38;5;28;43msuper\u001B[39;49m\u001B[43m(\u001B[49m\u001B[43m)\u001B[49m\u001B[38;5;241;43m.\u001B[39;49m\u001B[38;5;21;43m__init__\u001B[39;49m\u001B[43m(\u001B[49m\u001B[43mDesiredCapabilities\u001B[49m\u001B[38;5;241;43m.\u001B[39;49m\u001B[43mCHROME\u001B[49m\u001B[43m[\u001B[49m\u001B[38;5;124;43m'\u001B[39;49m\u001B[38;5;124;43mbrowserName\u001B[39;49m\u001B[38;5;124;43m'\u001B[39;49m\u001B[43m]\u001B[49m\u001B[43m,\u001B[49m\u001B[43m \u001B[49m\u001B[38;5;124;43m\"\u001B[39;49m\u001B[38;5;124;43mgoog\u001B[39;49m\u001B[38;5;124;43m\"\u001B[39;49m\u001B[43m,\u001B[49m\n\u001B[1;32m     70\u001B[0m \u001B[43m                 \u001B[49m\u001B[43mport\u001B[49m\u001B[43m,\u001B[49m\u001B[43m \u001B[49m\u001B[43moptions\u001B[49m\u001B[43m,\u001B[49m\n\u001B[1;32m     71\u001B[0m \u001B[43m                 \u001B[49m\u001B[43mservice_args\u001B[49m\u001B[43m,\u001B[49m\u001B[43m \u001B[49m\u001B[43mdesired_capabilities\u001B[49m\u001B[43m,\u001B[49m\n\u001B[1;32m     72\u001B[0m \u001B[43m                 \u001B[49m\u001B[43mservice_log_path\u001B[49m\u001B[43m,\u001B[49m\u001B[43m \u001B[49m\u001B[43mservice\u001B[49m\u001B[43m,\u001B[49m\u001B[43m \u001B[49m\u001B[43mkeep_alive\u001B[49m\u001B[43m)\u001B[49m\n",
      "File \u001B[0;32m~/pycharm/venv/lib/python3.8/site-packages/selenium/webdriver/chromium/webdriver.py:92\u001B[0m, in \u001B[0;36mChromiumDriver.__init__\u001B[0;34m(self, browser_name, vendor_prefix, port, options, service_args, desired_capabilities, service_log_path, service, keep_alive)\u001B[0m\n\u001B[1;32m     89\u001B[0m \u001B[38;5;28mself\u001B[39m\u001B[38;5;241m.\u001B[39mservice\u001B[38;5;241m.\u001B[39mstart()\n\u001B[1;32m     91\u001B[0m \u001B[38;5;28;01mtry\u001B[39;00m:\n\u001B[0;32m---> 92\u001B[0m     \u001B[38;5;28;43msuper\u001B[39;49m\u001B[43m(\u001B[49m\u001B[43m)\u001B[49m\u001B[38;5;241;43m.\u001B[39;49m\u001B[38;5;21;43m__init__\u001B[39;49m\u001B[43m(\u001B[49m\n\u001B[1;32m     93\u001B[0m \u001B[43m        \u001B[49m\u001B[43mcommand_executor\u001B[49m\u001B[38;5;241;43m=\u001B[39;49m\u001B[43mChromiumRemoteConnection\u001B[49m\u001B[43m(\u001B[49m\n\u001B[1;32m     94\u001B[0m \u001B[43m            \u001B[49m\u001B[43mremote_server_addr\u001B[49m\u001B[38;5;241;43m=\u001B[39;49m\u001B[38;5;28;43mself\u001B[39;49m\u001B[38;5;241;43m.\u001B[39;49m\u001B[43mservice\u001B[49m\u001B[38;5;241;43m.\u001B[39;49m\u001B[43mservice_url\u001B[49m\u001B[43m,\u001B[49m\n\u001B[1;32m     95\u001B[0m \u001B[43m            \u001B[49m\u001B[43mbrowser_name\u001B[49m\u001B[38;5;241;43m=\u001B[39;49m\u001B[43mbrowser_name\u001B[49m\u001B[43m,\u001B[49m\u001B[43m \u001B[49m\u001B[43mvendor_prefix\u001B[49m\u001B[38;5;241;43m=\u001B[39;49m\u001B[43mvendor_prefix\u001B[49m\u001B[43m,\u001B[49m\n\u001B[1;32m     96\u001B[0m \u001B[43m            \u001B[49m\u001B[43mkeep_alive\u001B[49m\u001B[38;5;241;43m=\u001B[39;49m\u001B[43mkeep_alive\u001B[49m\u001B[43m,\u001B[49m\u001B[43m \u001B[49m\u001B[43mignore_proxy\u001B[49m\u001B[38;5;241;43m=\u001B[39;49m\u001B[43m_ignore_proxy\u001B[49m\u001B[43m)\u001B[49m\u001B[43m,\u001B[49m\n\u001B[1;32m     97\u001B[0m \u001B[43m        \u001B[49m\u001B[43moptions\u001B[49m\u001B[38;5;241;43m=\u001B[39;49m\u001B[43moptions\u001B[49m\u001B[43m)\u001B[49m\n\u001B[1;32m     98\u001B[0m \u001B[38;5;28;01mexcept\u001B[39;00m \u001B[38;5;167;01mException\u001B[39;00m:\n\u001B[1;32m     99\u001B[0m     \u001B[38;5;28mself\u001B[39m\u001B[38;5;241m.\u001B[39mquit()\n",
      "File \u001B[0;32m~/pycharm/venv/lib/python3.8/site-packages/selenium/webdriver/remote/webdriver.py:277\u001B[0m, in \u001B[0;36mWebDriver.__init__\u001B[0;34m(self, command_executor, desired_capabilities, browser_profile, proxy, keep_alive, file_detector, options)\u001B[0m\n\u001B[1;32m    275\u001B[0m \u001B[38;5;28mself\u001B[39m\u001B[38;5;241m.\u001B[39m_authenticator_id \u001B[38;5;241m=\u001B[39m \u001B[38;5;28;01mNone\u001B[39;00m\n\u001B[1;32m    276\u001B[0m \u001B[38;5;28mself\u001B[39m\u001B[38;5;241m.\u001B[39mstart_client()\n\u001B[0;32m--> 277\u001B[0m \u001B[38;5;28;43mself\u001B[39;49m\u001B[38;5;241;43m.\u001B[39;49m\u001B[43mstart_session\u001B[49m\u001B[43m(\u001B[49m\u001B[43mcapabilities\u001B[49m\u001B[43m,\u001B[49m\u001B[43m \u001B[49m\u001B[43mbrowser_profile\u001B[49m\u001B[43m)\u001B[49m\n",
      "File \u001B[0;32m~/pycharm/venv/lib/python3.8/site-packages/selenium/webdriver/remote/webdriver.py:370\u001B[0m, in \u001B[0;36mWebDriver.start_session\u001B[0;34m(self, capabilities, browser_profile)\u001B[0m\n\u001B[1;32m    368\u001B[0m w3c_caps \u001B[38;5;241m=\u001B[39m _make_w3c_caps(capabilities)\n\u001B[1;32m    369\u001B[0m parameters \u001B[38;5;241m=\u001B[39m {\u001B[38;5;124m\"\u001B[39m\u001B[38;5;124mcapabilities\u001B[39m\u001B[38;5;124m\"\u001B[39m: w3c_caps}\n\u001B[0;32m--> 370\u001B[0m response \u001B[38;5;241m=\u001B[39m \u001B[38;5;28;43mself\u001B[39;49m\u001B[38;5;241;43m.\u001B[39;49m\u001B[43mexecute\u001B[49m\u001B[43m(\u001B[49m\u001B[43mCommand\u001B[49m\u001B[38;5;241;43m.\u001B[39;49m\u001B[43mNEW_SESSION\u001B[49m\u001B[43m,\u001B[49m\u001B[43m \u001B[49m\u001B[43mparameters\u001B[49m\u001B[43m)\u001B[49m\n\u001B[1;32m    371\u001B[0m \u001B[38;5;28;01mif\u001B[39;00m \u001B[38;5;124m'\u001B[39m\u001B[38;5;124msessionId\u001B[39m\u001B[38;5;124m'\u001B[39m \u001B[38;5;129;01mnot\u001B[39;00m \u001B[38;5;129;01min\u001B[39;00m response:\n\u001B[1;32m    372\u001B[0m     response \u001B[38;5;241m=\u001B[39m response[\u001B[38;5;124m'\u001B[39m\u001B[38;5;124mvalue\u001B[39m\u001B[38;5;124m'\u001B[39m]\n",
      "File \u001B[0;32m~/pycharm/venv/lib/python3.8/site-packages/selenium/webdriver/remote/webdriver.py:435\u001B[0m, in \u001B[0;36mWebDriver.execute\u001B[0;34m(self, driver_command, params)\u001B[0m\n\u001B[1;32m    433\u001B[0m response \u001B[38;5;241m=\u001B[39m \u001B[38;5;28mself\u001B[39m\u001B[38;5;241m.\u001B[39mcommand_executor\u001B[38;5;241m.\u001B[39mexecute(driver_command, params)\n\u001B[1;32m    434\u001B[0m \u001B[38;5;28;01mif\u001B[39;00m response:\n\u001B[0;32m--> 435\u001B[0m     \u001B[38;5;28;43mself\u001B[39;49m\u001B[38;5;241;43m.\u001B[39;49m\u001B[43merror_handler\u001B[49m\u001B[38;5;241;43m.\u001B[39;49m\u001B[43mcheck_response\u001B[49m\u001B[43m(\u001B[49m\u001B[43mresponse\u001B[49m\u001B[43m)\u001B[49m\n\u001B[1;32m    436\u001B[0m     response[\u001B[38;5;124m'\u001B[39m\u001B[38;5;124mvalue\u001B[39m\u001B[38;5;124m'\u001B[39m] \u001B[38;5;241m=\u001B[39m \u001B[38;5;28mself\u001B[39m\u001B[38;5;241m.\u001B[39m_unwrap_value(\n\u001B[1;32m    437\u001B[0m         response\u001B[38;5;241m.\u001B[39mget(\u001B[38;5;124m'\u001B[39m\u001B[38;5;124mvalue\u001B[39m\u001B[38;5;124m'\u001B[39m, \u001B[38;5;28;01mNone\u001B[39;00m))\n\u001B[1;32m    438\u001B[0m     \u001B[38;5;28;01mreturn\u001B[39;00m response\n",
      "File \u001B[0;32m~/pycharm/venv/lib/python3.8/site-packages/selenium/webdriver/remote/errorhandler.py:247\u001B[0m, in \u001B[0;36mErrorHandler.check_response\u001B[0;34m(self, response)\u001B[0m\n\u001B[1;32m    245\u001B[0m         alert_text \u001B[38;5;241m=\u001B[39m value[\u001B[38;5;124m'\u001B[39m\u001B[38;5;124malert\u001B[39m\u001B[38;5;124m'\u001B[39m]\u001B[38;5;241m.\u001B[39mget(\u001B[38;5;124m'\u001B[39m\u001B[38;5;124mtext\u001B[39m\u001B[38;5;124m'\u001B[39m)\n\u001B[1;32m    246\u001B[0m     \u001B[38;5;28;01mraise\u001B[39;00m exception_class(message, screen, stacktrace, alert_text)  \u001B[38;5;66;03m# type: ignore[call-arg]  # mypy is not smart enough here\u001B[39;00m\n\u001B[0;32m--> 247\u001B[0m \u001B[38;5;28;01mraise\u001B[39;00m exception_class(message, screen, stacktrace)\n",
      "\u001B[0;31mSessionNotCreatedException\u001B[0m: Message: session not created: This version of ChromeDriver only supports Chrome version 103\nCurrent browser version is 105.0.5195.102 with binary path /Applications/Google Chrome.app/Contents/MacOS/Google Chrome\nStacktrace:\n0   chromedriver                        0x000000010455dd14 chromedriver + 3792148\n1   chromedriver                        0x00000001044f4828 chromedriver + 3360808\n2   chromedriver                        0x00000001041f50b8 chromedriver + 217272\n3   chromedriver                        0x0000000104217ce0 chromedriver + 359648\n4   chromedriver                        0x00000001042146b4 chromedriver + 345780\n5   chromedriver                        0x000000010421168c chromedriver + 333452\n6   chromedriver                        0x0000000104242074 chromedriver + 532596\n7   chromedriver                        0x000000010421a318 chromedriver + 369432\n8   chromedriver                        0x00000001045331e8 chromedriver + 3617256\n9   chromedriver                        0x0000000104537678 chromedriver + 3634808\n10  chromedriver                        0x000000010453bc6c chromedriver + 3652716\n11  chromedriver                        0x0000000104538110 chromedriver + 3637520\n12  chromedriver                        0x00000001045167ac chromedriver + 3499948\n13  chromedriver                        0x000000010454fbf0 chromedriver + 3734512\n14  chromedriver                        0x000000010454fd54 chromedriver + 3734868\n15  chromedriver                        0x0000000104564558 chromedriver + 3818840\n16  libsystem_pthread.dylib             0x00000001b0f2826c _pthread_start + 148\n17  libsystem_pthread.dylib             0x00000001b0f2308c thread_start + 8\n"
     ]
    }
   ],
   "source": [
    "# 准备对应的url地址\n",
    "url = \"https://www.icourse163.org/\"\n",
    "\n",
    "# 创建一个参数对象，用来控制chrome以无界面模式打开\n",
    "chrome_options = Options()\n",
    "chrome_options.add_argument('--headless')\n",
    "chrome_options.add_argument('--disable-gpu')\n",
    "\n",
    "# 首先创建一个driver实例对象\n",
    "driver = webdriver.Chrome(chrome_options=chrome_options)\n",
    "driver.maximize_window()\n",
    "\n",
    "# 避开 chrome 检测\n",
    "driver.execute_cdp_cmd(\n",
    "    \"Page.addScriptToEvaluateOnNewDocument\",\n",
    "    {\n",
    "        \"source\": \"\"\"Object.defineProperty(navigator, 'webdriver', {get: () => undefined})\"\"\"\n",
    "    }\n",
    ")\n",
    "driver.implicitly_wait(5)\n",
    "\n",
    "\n",
    "for url,name in zip(test_url_lst,test_name_lst):\n",
    "    '''\n",
    "    参加的课程数量，关注人数，粉丝数，主题/回复，获赞数量，学习时长，优秀证书数量，合格证书数量,url,name\n",
    "    '''\n",
    "    # url = 'https://www.icourse163.org/home.htm?userId=1015300339'\n",
    "    # name = '顾晨mooc'\n",
    "    # 在新窗口打开\n",
    "    driver.execute_script(\"window.open('{}');\".format(url))\n",
    "\n",
    "    # 切换窗口\n",
    "    handles = driver.window_handles\n",
    "    driver.switch_to.window(handles[-1])\n",
    "\n",
    "    time.sleep(1)\n",
    "    # 首先进行判断他是学生还是教授\n",
    "    bollen_damn_lst = [damn1.text for damn1 in driver.find_elements(by=By.CSS_SELECTOR, value=\"#j-module-tab > div > div > a > span\")]\n",
    "    #print(bollen_damn_lst)\n",
    "    if len(bollen_damn_lst) == 1:\n",
    "        # 这个表示的是学生\n",
    "        # 1. 提取出参加的课程数量\n",
    "        enrolled_courses_num = bollen_damn_lst[0].split('课程')[1]\n",
    "        if len(enrolled_courses_num) == 0:\n",
    "            enrolled_courses_num = '0'\n",
    "\n",
    "        # 2. 提取出关注的人数\n",
    "        follow_num = driver.find_element(by=By.CSS_SELECTOR, value=\"#j-self-content > div > div.u-ui-f2f > span > span:nth-child(1)\").text[2:-1]\n",
    "\n",
    "        # 3. 提取出对应的粉丝数\n",
    "        fans_num = driver.find_element(by=By.CSS_SELECTOR, value=\"#j-self-content > div > div.u-ui-f2f > span > span:nth-child(2)\").text[2:-1]\n",
    "\n",
    "        # 4. 主题/回复\n",
    "        theme_n_reply = driver.find_element(by=By.CSS_SELECTOR, value=\"#j-self-content > div > div.u-ui-box.f-fr > div > div > div.u-ui-discuss-cont > span\").text\n",
    "\n",
    "        # 5. 学习时长\n",
    "        studying_duration = driver.find_element(by=By.CSS_SELECTOR, value=\"#j-self-content > div > div.u-ui-box.f-fr > div > div > div.u-ui-time-cont > span\").text\n",
    "        if \"时\" in studying_duration:\n",
    "            ch1 = studying_duration.index(\"时\")\n",
    "            # 转换成分钟\n",
    "            studying_minute = int(studying_duration[:ch1])*60 + int(studying_duration[ch1+1:-1])\n",
    "        else:\n",
    "            studying_minute = studying_duration[:-1]\n",
    "\n",
    "        # 获赞数量\n",
    "        thumbs_up = driver.find_element(by=By.CSS_SELECTOR,value=\"#j-self-content > div > div.u-ui-box.f-fr > div > div > div.u-ui-zan-cnt > span\").text\n",
    "\n",
    "        # /html/body/div[4]/div[2]/div[3]/div/div[1]/div[3]/div/div/div[3]/div/ul/li\n",
    "        # /html/body/div[4]/div[2]/div[3]/div/div[1]/div[3]/div/div/div[3]/div/ul/li\n",
    "        driver.get(\"{}{}\".format(url,\"#/home/mycert\"))\n",
    "        driver.find_element(by=By.XPATH,value='/html/body/div[4]/div[2]/div[3]/div/div[1]/div[3]/div/div/div[1]/div/div[2]/span').click()\n",
    "        # 首先为了提高效率，我们将会先进行判断全部的证书\n",
    "        all_certs_lst = driver.find_elements(by=By.XPATH,value='/html/body/div[4]/div[2]/div[3]/div/div[1]/div[3]/div/div/div[2]/div')\n",
    "        if len(all_certs_lst) == 0:\n",
    "            perfect_certs_num = 0\n",
    "            pass_certs_num = 0\n",
    "        else:\n",
    "            # 点击优秀证书\n",
    "            time.sleep(0.5)\n",
    "            driver.find_element(by=By.XPATH,value='/html/body/div[4]/div[2]/div[3]/div/div[1]/div[3]/div/div/div[1]/div/div[2]/span').click()\n",
    "            time.sleep(1)\n",
    "            # 查看是否有换页button\n",
    "            change_pages_button = driver.find_elements(by=By.XPATH,value='/html/body/div[4]/div[2]/div[3]/div/div[1]/div[3]/div/div/div[3]/div/ul/li')\n",
    "            if len(change_pages_button) == 0:\n",
    "                # 这里表示的是只有一页\n",
    "                perfect_certs_num = len(driver.find_elements(by=By.CSS_SELECTOR, value=\"div.u-certCard-courseFunc_card_title.f-thide\"))\n",
    "            else:\n",
    "                # 这里表示的是不止一页\n",
    "                tp_page_num = len(change_pages_button) - 2\n",
    "                # 点击最后一页\n",
    "                change_pages_button[-2].click()\n",
    "                time.sleep(0.7)\n",
    "                perfect_certs_num = len(driver.find_elements(by=By.CSS_SELECTOR, value=\"div.u-certCard-courseFunc_card_title.f-thide\")) + (tp_page_num-1)*40\n",
    "                #print(perfect_certs_num)\n",
    "\n",
    "            # 点击合格证书\n",
    "            driver.find_element(by=By.XPATH,value='/html/body/div[4]/div[2]/div[3]/div/div[1]/div[3]/div/div/div[1]/div/div[3]/span').click()\n",
    "            time.sleep(0.7)\n",
    "            # 查看是否有换页button\n",
    "            change_pages_button2 = driver.find_elements(by=By.XPATH,value='/html/body/div[4]/div[2]/div[3]/div/div[1]/div[3]/div/div/div[3]/div/ul/li')\n",
    "            if len(change_pages_button2) == 0:\n",
    "                # 这里表示的是只有一页\n",
    "                pass_certs_num = len(driver.find_elements(by=By.CSS_SELECTOR, value=\"div.u-certCard-courseFunc_card_title.f-thide\"))\n",
    "            else:\n",
    "                # 这里表示的是不止一页\n",
    "                tp_page_num = len(change_pages_button2) - 2\n",
    "                # 点击最后一页\n",
    "                change_pages_button2[-2].click()\n",
    "                time.sleep(1)\n",
    "                pass_certs_num = len(driver.find_elements(by=By.CSS_SELECTOR, value=\"div.u-certCard-courseFunc_card_title.f-thide\")) + (tp_page_num-1)*40\n",
    "                #print(pass_certs_num)\n",
    "        driver.close()\n",
    "        # 切换窗口\n",
    "        handles = driver.window_handles\n",
    "        driver.switch_to.window(handles[-1])\n",
    "        #print('-----------------------------')\n",
    "        want_to_write = \"{}\\t{}\\t{}\\t{}\\t{}\\t{}\\t{}\\t{}\\t{}\\t{}\\r\".format(name,url,enrolled_courses_num,follow_num,fans_num,theme_n_reply,thumbs_up,studying_minute,perfect_certs_num,pass_certs_num)\n",
    "\n",
    "        with open('users_info_.txt','a+',encoding='utf-8') as f:\n",
    "            f.write(want_to_write)\n",
    "    else:\n",
    "        driver.close()\n",
    "        # 切换窗口\n",
    "        handles = driver.window_handles\n",
    "        driver.switch_to.window(handles[-1])"
   ],
   "metadata": {
    "collapsed": false,
    "pycharm": {
     "name": "#%%\n"
    }
   }
  },
  {
   "cell_type": "markdown",
   "source": [
    " ## debug代码框\n",
    "- 两种需要跑下面代码框的情况\n",
    "    - 如果上面的代码框报错，需要跑下面第一个代码框，然后重新跑上面的代码框（爬取用户信息的代码框即可）\n",
    "    - 如果想要停止上面的代码框一下，可以按上面的红色正方形按钮，然后不关pycharm的话，停止后可以跑这个代码框再跑上面的代码框"
   ],
   "metadata": {
    "collapsed": false,
    "pycharm": {
     "name": "#%% md\n"
    }
   }
  },
  {
   "cell_type": "code",
   "execution_count": 81,
   "outputs": [
    {
     "ename": "ValueError",
     "evalue": "'https://www.icourse163.org/' is not in list",
     "output_type": "error",
     "traceback": [
      "\u001B[0;31m---------------------------------------------------------------------------\u001B[0m",
      "\u001B[0;31mValueError\u001B[0m                                Traceback (most recent call last)",
      "Input \u001B[0;32mIn [81]\u001B[0m, in \u001B[0;36m<cell line: 2>\u001B[0;34m()\u001B[0m\n\u001B[1;32m      1\u001B[0m \u001B[38;5;66;03m# debug\u001B[39;00m\n\u001B[0;32m----> 2\u001B[0m new_index \u001B[38;5;241m=\u001B[39m \u001B[43mtest_url_lst\u001B[49m\u001B[38;5;241;43m.\u001B[39;49m\u001B[43mindex\u001B[49m\u001B[43m(\u001B[49m\u001B[43murl\u001B[49m\u001B[43m)\u001B[49m\n\u001B[1;32m      3\u001B[0m \u001B[38;5;28mprint\u001B[39m(new_index)\n\u001B[1;32m      4\u001B[0m test_url_lst \u001B[38;5;241m=\u001B[39m test_url_lst[new_index:]\n",
      "\u001B[0;31mValueError\u001B[0m: 'https://www.icourse163.org/' is not in list"
     ]
    }
   ],
   "source": [
    "# debug\n",
    "new_index = test_url_lst.index(url)\n",
    "print(new_index)\n",
    "test_url_lst = test_url_lst[new_index:]\n",
    "test_name_lst = test_name_lst[new_index:]"
   ],
   "metadata": {
    "collapsed": false,
    "pycharm": {
     "name": "#%%\n"
    }
   }
  },
  {
   "cell_type": "markdown",
   "source": [
    "## 查看代码框"
   ],
   "metadata": {
    "collapsed": false,
    "pycharm": {
     "name": "#%% md\n"
    }
   }
  },
  {
   "cell_type": "code",
   "execution_count": 15,
   "outputs": [
    {
     "ename": "ParserError",
     "evalue": "Error tokenizing data. C error: Buffer overflow caught - possible malformed input file.\n",
     "output_type": "error",
     "traceback": [
      "\u001B[0;31m---------------------------------------------------------------------------\u001B[0m",
      "\u001B[0;31mParserError\u001B[0m                               Traceback (most recent call last)",
      "Input \u001B[0;32mIn [15]\u001B[0m, in \u001B[0;36m<cell line: 1>\u001B[0;34m()\u001B[0m\n\u001B[0;32m----> 1\u001B[0m \u001B[43mpd\u001B[49m\u001B[38;5;241;43m.\u001B[39;49m\u001B[43mread_table\u001B[49m\u001B[43m(\u001B[49m\u001B[38;5;124;43m'\u001B[39;49m\u001B[38;5;124;43musers_info_.txt\u001B[39;49m\u001B[38;5;124;43m'\u001B[39;49m\u001B[43m)\u001B[49m\n",
      "File \u001B[0;32m~/pycharm/venv/lib/python3.8/site-packages/pandas/util/_decorators.py:311\u001B[0m, in \u001B[0;36mdeprecate_nonkeyword_arguments.<locals>.decorate.<locals>.wrapper\u001B[0;34m(*args, **kwargs)\u001B[0m\n\u001B[1;32m    305\u001B[0m \u001B[38;5;28;01mif\u001B[39;00m \u001B[38;5;28mlen\u001B[39m(args) \u001B[38;5;241m>\u001B[39m num_allow_args:\n\u001B[1;32m    306\u001B[0m     warnings\u001B[38;5;241m.\u001B[39mwarn(\n\u001B[1;32m    307\u001B[0m         msg\u001B[38;5;241m.\u001B[39mformat(arguments\u001B[38;5;241m=\u001B[39marguments),\n\u001B[1;32m    308\u001B[0m         \u001B[38;5;167;01mFutureWarning\u001B[39;00m,\n\u001B[1;32m    309\u001B[0m         stacklevel\u001B[38;5;241m=\u001B[39mstacklevel,\n\u001B[1;32m    310\u001B[0m     )\n\u001B[0;32m--> 311\u001B[0m \u001B[38;5;28;01mreturn\u001B[39;00m \u001B[43mfunc\u001B[49m\u001B[43m(\u001B[49m\u001B[38;5;241;43m*\u001B[39;49m\u001B[43margs\u001B[49m\u001B[43m,\u001B[49m\u001B[43m \u001B[49m\u001B[38;5;241;43m*\u001B[39;49m\u001B[38;5;241;43m*\u001B[39;49m\u001B[43mkwargs\u001B[49m\u001B[43m)\u001B[49m\n",
      "File \u001B[0;32m~/pycharm/venv/lib/python3.8/site-packages/pandas/io/parsers/readers.py:779\u001B[0m, in \u001B[0;36mread_table\u001B[0;34m(filepath_or_buffer, sep, delimiter, header, names, index_col, usecols, squeeze, prefix, mangle_dupe_cols, dtype, engine, converters, true_values, false_values, skipinitialspace, skiprows, skipfooter, nrows, na_values, keep_default_na, na_filter, verbose, skip_blank_lines, parse_dates, infer_datetime_format, keep_date_col, date_parser, dayfirst, cache_dates, iterator, chunksize, compression, thousands, decimal, lineterminator, quotechar, quoting, doublequote, escapechar, comment, encoding, encoding_errors, dialect, error_bad_lines, warn_bad_lines, on_bad_lines, delim_whitespace, low_memory, memory_map, float_precision, storage_options)\u001B[0m\n\u001B[1;32m    764\u001B[0m kwds_defaults \u001B[38;5;241m=\u001B[39m _refine_defaults_read(\n\u001B[1;32m    765\u001B[0m     dialect,\n\u001B[1;32m    766\u001B[0m     delimiter,\n\u001B[0;32m   (...)\u001B[0m\n\u001B[1;32m    775\u001B[0m     defaults\u001B[38;5;241m=\u001B[39m{\u001B[38;5;124m\"\u001B[39m\u001B[38;5;124mdelimiter\u001B[39m\u001B[38;5;124m\"\u001B[39m: \u001B[38;5;124m\"\u001B[39m\u001B[38;5;130;01m\\t\u001B[39;00m\u001B[38;5;124m\"\u001B[39m},\n\u001B[1;32m    776\u001B[0m )\n\u001B[1;32m    777\u001B[0m kwds\u001B[38;5;241m.\u001B[39mupdate(kwds_defaults)\n\u001B[0;32m--> 779\u001B[0m \u001B[38;5;28;01mreturn\u001B[39;00m \u001B[43m_read\u001B[49m\u001B[43m(\u001B[49m\u001B[43mfilepath_or_buffer\u001B[49m\u001B[43m,\u001B[49m\u001B[43m \u001B[49m\u001B[43mkwds\u001B[49m\u001B[43m)\u001B[49m\n",
      "File \u001B[0;32m~/pycharm/venv/lib/python3.8/site-packages/pandas/io/parsers/readers.py:581\u001B[0m, in \u001B[0;36m_read\u001B[0;34m(filepath_or_buffer, kwds)\u001B[0m\n\u001B[1;32m    578\u001B[0m     \u001B[38;5;28;01mreturn\u001B[39;00m parser\n\u001B[1;32m    580\u001B[0m \u001B[38;5;28;01mwith\u001B[39;00m parser:\n\u001B[0;32m--> 581\u001B[0m     \u001B[38;5;28;01mreturn\u001B[39;00m \u001B[43mparser\u001B[49m\u001B[38;5;241;43m.\u001B[39;49m\u001B[43mread\u001B[49m\u001B[43m(\u001B[49m\u001B[43mnrows\u001B[49m\u001B[43m)\u001B[49m\n",
      "File \u001B[0;32m~/pycharm/venv/lib/python3.8/site-packages/pandas/io/parsers/readers.py:1255\u001B[0m, in \u001B[0;36mTextFileReader.read\u001B[0;34m(self, nrows)\u001B[0m\n\u001B[1;32m   1253\u001B[0m nrows \u001B[38;5;241m=\u001B[39m validate_integer(\u001B[38;5;124m\"\u001B[39m\u001B[38;5;124mnrows\u001B[39m\u001B[38;5;124m\"\u001B[39m, nrows)\n\u001B[1;32m   1254\u001B[0m \u001B[38;5;28;01mtry\u001B[39;00m:\n\u001B[0;32m-> 1255\u001B[0m     index, columns, col_dict \u001B[38;5;241m=\u001B[39m \u001B[38;5;28;43mself\u001B[39;49m\u001B[38;5;241;43m.\u001B[39;49m\u001B[43m_engine\u001B[49m\u001B[38;5;241;43m.\u001B[39;49m\u001B[43mread\u001B[49m\u001B[43m(\u001B[49m\u001B[43mnrows\u001B[49m\u001B[43m)\u001B[49m\n\u001B[1;32m   1256\u001B[0m \u001B[38;5;28;01mexcept\u001B[39;00m \u001B[38;5;167;01mException\u001B[39;00m:\n\u001B[1;32m   1257\u001B[0m     \u001B[38;5;28mself\u001B[39m\u001B[38;5;241m.\u001B[39mclose()\n",
      "File \u001B[0;32m~/pycharm/venv/lib/python3.8/site-packages/pandas/io/parsers/c_parser_wrapper.py:225\u001B[0m, in \u001B[0;36mCParserWrapper.read\u001B[0;34m(self, nrows)\u001B[0m\n\u001B[1;32m    223\u001B[0m \u001B[38;5;28;01mtry\u001B[39;00m:\n\u001B[1;32m    224\u001B[0m     \u001B[38;5;28;01mif\u001B[39;00m \u001B[38;5;28mself\u001B[39m\u001B[38;5;241m.\u001B[39mlow_memory:\n\u001B[0;32m--> 225\u001B[0m         chunks \u001B[38;5;241m=\u001B[39m \u001B[38;5;28;43mself\u001B[39;49m\u001B[38;5;241;43m.\u001B[39;49m\u001B[43m_reader\u001B[49m\u001B[38;5;241;43m.\u001B[39;49m\u001B[43mread_low_memory\u001B[49m\u001B[43m(\u001B[49m\u001B[43mnrows\u001B[49m\u001B[43m)\u001B[49m\n\u001B[1;32m    226\u001B[0m         \u001B[38;5;66;03m# destructive to chunks\u001B[39;00m\n\u001B[1;32m    227\u001B[0m         data \u001B[38;5;241m=\u001B[39m _concatenate_chunks(chunks)\n",
      "File \u001B[0;32m~/pycharm/venv/lib/python3.8/site-packages/pandas/_libs/parsers.pyx:805\u001B[0m, in \u001B[0;36mpandas._libs.parsers.TextReader.read_low_memory\u001B[0;34m()\u001B[0m\n",
      "File \u001B[0;32m~/pycharm/venv/lib/python3.8/site-packages/pandas/_libs/parsers.pyx:861\u001B[0m, in \u001B[0;36mpandas._libs.parsers.TextReader._read_rows\u001B[0;34m()\u001B[0m\n",
      "File \u001B[0;32m~/pycharm/venv/lib/python3.8/site-packages/pandas/_libs/parsers.pyx:847\u001B[0m, in \u001B[0;36mpandas._libs.parsers.TextReader._tokenize_rows\u001B[0;34m()\u001B[0m\n",
      "File \u001B[0;32m~/pycharm/venv/lib/python3.8/site-packages/pandas/_libs/parsers.pyx:1960\u001B[0m, in \u001B[0;36mpandas._libs.parsers.raise_parser_error\u001B[0;34m()\u001B[0m\n",
      "\u001B[0;31mParserError\u001B[0m: Error tokenizing data. C error: Buffer overflow caught - possible malformed input file.\n"
     ]
    }
   ],
   "source": [
    "pd.read_table('users_info_.txt')"
   ],
   "metadata": {
    "collapsed": false,
    "pycharm": {
     "name": "#%%\n"
    }
   }
  },
  {
   "cell_type": "markdown",
   "source": [
    "## users_info_.txt为90000以上的数据"
   ],
   "metadata": {
    "collapsed": false,
    "pycharm": {
     "name": "#%% md\n"
    }
   }
  },
  {
   "cell_type": "code",
   "execution_count": 82,
   "outputs": [
    {
     "data": {
      "text/plain": "                   user_name  \\\n0      mooc78138892619785614   \n1                        宋天都   \n2                      星云丶丶丶   \n3                        河蟹君   \n4      mooc17365938131719756   \n...                      ...   \n24848  mooc77561791391688094   \n24849                罗斯开了二倍速   \n24850           爱学Python的铁头娃   \n24851     同学ykt1498269888684   \n24852  mooc56048657439849310   \n\n                                                user_url  \\\n0      https://www.icourse163.org/home.htm?userId=114...   \n1      https://www.icourse163.org/home.htm?userId=138...   \n2      https://www.icourse163.org/home.htm?userId=102...   \n3      https://www.icourse163.org/home.htm?userId=120...   \n4      https://www.icourse163.org/home.htm?userId=138...   \n...                                                  ...   \n24848  https://www.icourse163.org/home.htm?userId=138...   \n24849  https://www.icourse163.org/home.htm?userId=114...   \n24850  https://www.icourse163.org/home.htm?userId=138...   \n24851  https://www.icourse163.org/home.htm?userId=102...   \n24852  https://www.icourse163.org/home.htm?userId=138...   \n\n       enrolled_courses_num  follow_num  fans_num  theme_n_reply  thumbs_up  \\\n0                        97         0.0       0.0            0.0        4.0   \n1                        47         0.0       0.0           96.0       21.0   \n2                        81         0.0       0.0            0.0        0.0   \n3                         1         0.0       0.0            0.0        0.0   \n4                         7         0.0       0.0            0.0        0.0   \n...                     ...         ...       ...            ...        ...   \n24848                     3         0.0       0.0            0.0        0.0   \n24849                    21         2.0       0.0            0.0        0.0   \n24850                    14         5.0       0.0           15.0        9.0   \n24851                   137         2.0       0.0            2.0        0.0   \n24852                    21         0.0       0.0            0.0        0.0   \n\n       studying_minute  certificate_of_excellence_num  \\\n0              34886.0                              0   \n1               7713.0                              1   \n2                496.0                              0   \n3                367.0                              0   \n4               2679.0                              0   \n...                ...                            ...   \n24848           1589.0                              0   \n24849           1048.0                              0   \n24850           7971.0                              0   \n24851          13168.0                              0   \n24852            116.0                              0   \n\n       certificate_of_competency_num  \n0                                  0  \n1                                 11  \n2                                  0  \n3                                  1  \n4                                  1  \n...                              ...  \n24848                              0  \n24849                              0  \n24850                              0  \n24851                              0  \n24852                              0  \n\n[24853 rows x 10 columns]",
      "text/html": "<div>\n<style scoped>\n    .dataframe tbody tr th:only-of-type {\n        vertical-align: middle;\n    }\n\n    .dataframe tbody tr th {\n        vertical-align: top;\n    }\n\n    .dataframe thead th {\n        text-align: right;\n    }\n</style>\n<table border=\"1\" class=\"dataframe\">\n  <thead>\n    <tr style=\"text-align: right;\">\n      <th></th>\n      <th>user_name</th>\n      <th>user_url</th>\n      <th>enrolled_courses_num</th>\n      <th>follow_num</th>\n      <th>fans_num</th>\n      <th>theme_n_reply</th>\n      <th>thumbs_up</th>\n      <th>studying_minute</th>\n      <th>certificate_of_excellence_num</th>\n      <th>certificate_of_competency_num</th>\n    </tr>\n  </thead>\n  <tbody>\n    <tr>\n      <th>0</th>\n      <td>mooc78138892619785614</td>\n      <td>https://www.icourse163.org/home.htm?userId=114...</td>\n      <td>97</td>\n      <td>0.0</td>\n      <td>0.0</td>\n      <td>0.0</td>\n      <td>4.0</td>\n      <td>34886.0</td>\n      <td>0</td>\n      <td>0</td>\n    </tr>\n    <tr>\n      <th>1</th>\n      <td>宋天都</td>\n      <td>https://www.icourse163.org/home.htm?userId=138...</td>\n      <td>47</td>\n      <td>0.0</td>\n      <td>0.0</td>\n      <td>96.0</td>\n      <td>21.0</td>\n      <td>7713.0</td>\n      <td>1</td>\n      <td>11</td>\n    </tr>\n    <tr>\n      <th>2</th>\n      <td>星云丶丶丶</td>\n      <td>https://www.icourse163.org/home.htm?userId=102...</td>\n      <td>81</td>\n      <td>0.0</td>\n      <td>0.0</td>\n      <td>0.0</td>\n      <td>0.0</td>\n      <td>496.0</td>\n      <td>0</td>\n      <td>0</td>\n    </tr>\n    <tr>\n      <th>3</th>\n      <td>河蟹君</td>\n      <td>https://www.icourse163.org/home.htm?userId=120...</td>\n      <td>1</td>\n      <td>0.0</td>\n      <td>0.0</td>\n      <td>0.0</td>\n      <td>0.0</td>\n      <td>367.0</td>\n      <td>0</td>\n      <td>1</td>\n    </tr>\n    <tr>\n      <th>4</th>\n      <td>mooc17365938131719756</td>\n      <td>https://www.icourse163.org/home.htm?userId=138...</td>\n      <td>7</td>\n      <td>0.0</td>\n      <td>0.0</td>\n      <td>0.0</td>\n      <td>0.0</td>\n      <td>2679.0</td>\n      <td>0</td>\n      <td>1</td>\n    </tr>\n    <tr>\n      <th>...</th>\n      <td>...</td>\n      <td>...</td>\n      <td>...</td>\n      <td>...</td>\n      <td>...</td>\n      <td>...</td>\n      <td>...</td>\n      <td>...</td>\n      <td>...</td>\n      <td>...</td>\n    </tr>\n    <tr>\n      <th>24848</th>\n      <td>mooc77561791391688094</td>\n      <td>https://www.icourse163.org/home.htm?userId=138...</td>\n      <td>3</td>\n      <td>0.0</td>\n      <td>0.0</td>\n      <td>0.0</td>\n      <td>0.0</td>\n      <td>1589.0</td>\n      <td>0</td>\n      <td>0</td>\n    </tr>\n    <tr>\n      <th>24849</th>\n      <td>罗斯开了二倍速</td>\n      <td>https://www.icourse163.org/home.htm?userId=114...</td>\n      <td>21</td>\n      <td>2.0</td>\n      <td>0.0</td>\n      <td>0.0</td>\n      <td>0.0</td>\n      <td>1048.0</td>\n      <td>0</td>\n      <td>0</td>\n    </tr>\n    <tr>\n      <th>24850</th>\n      <td>爱学Python的铁头娃</td>\n      <td>https://www.icourse163.org/home.htm?userId=138...</td>\n      <td>14</td>\n      <td>5.0</td>\n      <td>0.0</td>\n      <td>15.0</td>\n      <td>9.0</td>\n      <td>7971.0</td>\n      <td>0</td>\n      <td>0</td>\n    </tr>\n    <tr>\n      <th>24851</th>\n      <td>同学ykt1498269888684</td>\n      <td>https://www.icourse163.org/home.htm?userId=102...</td>\n      <td>137</td>\n      <td>2.0</td>\n      <td>0.0</td>\n      <td>2.0</td>\n      <td>0.0</td>\n      <td>13168.0</td>\n      <td>0</td>\n      <td>0</td>\n    </tr>\n    <tr>\n      <th>24852</th>\n      <td>mooc56048657439849310</td>\n      <td>https://www.icourse163.org/home.htm?userId=138...</td>\n      <td>21</td>\n      <td>0.0</td>\n      <td>0.0</td>\n      <td>0.0</td>\n      <td>0.0</td>\n      <td>116.0</td>\n      <td>0</td>\n      <td>0</td>\n    </tr>\n  </tbody>\n</table>\n<p>24853 rows × 10 columns</p>\n</div>"
     },
     "execution_count": 82,
     "metadata": {},
     "output_type": "execute_result"
    }
   ],
   "source": [
    "import pandas as pd\n",
    "pd.read_table('users_info_.txt',lineterminator='\\r')"
   ],
   "metadata": {
    "collapsed": false,
    "pycharm": {
     "name": "#%%\n"
    }
   }
  },
  {
   "cell_type": "code",
   "execution_count": null,
   "outputs": [],
   "source": [],
   "metadata": {
    "collapsed": false,
    "pycharm": {
     "name": "#%%\n"
    }
   }
  }
 ],
 "metadata": {
  "kernelspec": {
   "display_name": "Python 3",
   "language": "python",
   "name": "python3"
  },
  "language_info": {
   "codemirror_mode": {
    "name": "ipython",
    "version": 2
   },
   "file_extension": ".py",
   "mimetype": "text/x-python",
   "name": "python",
   "nbconvert_exporter": "python",
   "pygments_lexer": "ipython2",
   "version": "2.7.6"
  }
 },
 "nbformat": 4,
 "nbformat_minor": 0
}